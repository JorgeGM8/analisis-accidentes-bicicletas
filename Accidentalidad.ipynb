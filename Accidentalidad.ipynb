{
 "cells": [
  {
   "cell_type": "markdown",
   "metadata": {},
   "source": [
    "# Accidentalidad de bicicletas - Madrid 2019-2024\n",
    "\n",
    "Jorge Galeano Maté\n",
    "\n",
    "Este repositorio contiene el código y los datos necesarios para reproducir el análisis de accidentalidad de bicicletas en Madrid entre 2019 y 2024.\n",
    "\n",
    "---"
   ]
  },
  {
   "cell_type": "markdown",
   "metadata": {},
   "source": [
    "### 1. Cargar todos los CSV en un único dataframe. ¿Cuántas filas se obtienen?\n",
    "\n",
    "Primero, pasamos cada CSV a dataframe con Pandas.\n",
    "\n",
    "Luego, usamos la función `concat()` para unir los dataframe en uno solo.\n",
    "\n",
    "Con el método `.shape` obtenemos una tupla que indica el número de filas y columnas. Mostramos solo las filas."
   ]
  },
  {
   "cell_type": "code",
   "execution_count": 1,
   "metadata": {},
   "outputs": [
    {
     "name": "stdout",
     "output_type": "stream",
     "text": [
      "El dataframe contiene 262075 filas.\n"
     ]
    }
   ],
   "source": [
    "import pandas as pd\n",
    "\n",
    "datos_2019 = pd.read_csv(\"2019_Accidentalidad.csv\", sep=\";\")\n",
    "\n",
    "datos_2020 = pd.read_csv(\"2020_Accidentalidad.csv\", sep=\";\")\n",
    "\n",
    "datos_2021 = pd.read_csv(\"2021_Accidentalidad.csv\", sep=\";\")\n",
    "\n",
    "datos_2022 = pd.read_csv(\"2022_Accidentalidad.csv\", sep=\";\")\n",
    "\n",
    "datos_2023 = pd.read_csv(\"2023_Accidentalidad.csv\", sep=\";\")\n",
    "\n",
    "datos_2024 = pd.read_csv(\"2024_Accidentalidad.csv\", sep=\";\")\n",
    "\n",
    "df = pd.concat(\n",
    "    [datos_2019, datos_2020, datos_2021, datos_2022, datos_2023, datos_2024], axis=0)\n",
    "\n",
    "print(f\"El dataframe contiene {df.shape[0]} filas.\")"
   ]
  },
  {
   "cell_type": "markdown",
   "metadata": {},
   "source": [
    "Antes de continuar, comprobamos los dtype del dataframe para evitar problemas futuros."
   ]
  },
  {
   "cell_type": "code",
   "execution_count": 2,
   "metadata": {},
   "outputs": [
    {
     "name": "stdout",
     "output_type": "stream",
     "text": [
      "<class 'pandas.core.frame.DataFrame'>\n",
      "Index: 262075 entries, 0 to 40164\n",
      "Data columns (total 19 columns):\n",
      " #   Column                Non-Null Count   Dtype  \n",
      "---  ------                --------------   -----  \n",
      " 0   num_expediente        262075 non-null  object \n",
      " 1   fecha                 262075 non-null  object \n",
      " 2   hora                  262075 non-null  object \n",
      " 3   localizacion          262075 non-null  object \n",
      " 4   numero                262067 non-null  object \n",
      " 5   cod_distrito          262067 non-null  float64\n",
      " 6   distrito              262067 non-null  object \n",
      " 7   tipo_accidente        262068 non-null  object \n",
      " 8   estado_meteorológico  233670 non-null  object \n",
      " 9   tipo_vehiculo         260810 non-null  object \n",
      " 10  tipo_persona          262072 non-null  object \n",
      " 11  rango_edad            262075 non-null  object \n",
      " 12  sexo                  262075 non-null  object \n",
      " 13  cod_lesividad         143678 non-null  float64\n",
      " 14  lesividad             143678 non-null  object \n",
      " 15  coordenada_x_utm      262030 non-null  object \n",
      " 16  coordenada_y_utm      262030 non-null  object \n",
      " 17  positiva_alcohol      261155 non-null  object \n",
      " 18  positiva_droga        858 non-null     float64\n",
      "dtypes: float64(3), object(16)\n",
      "memory usage: 40.0+ MB\n",
      "None\n"
     ]
    }
   ],
   "source": [
    "print(df.info())"
   ]
  },
  {
   "cell_type": "markdown",
   "metadata": {},
   "source": [
    "Modificamos el dtype de \"fecha\" y \"cod_lesividad\" (\"num_expediente\" y \"numero\" no se pasan porque contienen letras, y \"hora\" lo dejamos porque no se puede transformar sin mostrar una fecha). Aprovechamos para modificar los valores de \"positiva_alcohol\" y \"positiva_droga\" a True/False, ya que se trata de valores que son positivos o negativos, y puede resultar más práctico usarlos de esta forma.\n",
    "\n",
    "Aquí también pasaríamos las columnas de \"positiva_alcohol\" y \"positiva_droga\" a dtype bool, pero al hacerlo resulta que Pandas transforma los valores nulos en True, así que lo dejamos como dtype object por el momento."
   ]
  },
  {
   "cell_type": "code",
   "execution_count": 3,
   "metadata": {},
   "outputs": [
    {
     "data": {
      "text/html": [
       "<div>\n",
       "<style scoped>\n",
       "    .dataframe tbody tr th:only-of-type {\n",
       "        vertical-align: middle;\n",
       "    }\n",
       "\n",
       "    .dataframe tbody tr th {\n",
       "        vertical-align: top;\n",
       "    }\n",
       "\n",
       "    .dataframe thead th {\n",
       "        text-align: right;\n",
       "    }\n",
       "</style>\n",
       "<table border=\"1\" class=\"dataframe\">\n",
       "  <thead>\n",
       "    <tr style=\"text-align: right;\">\n",
       "      <th></th>\n",
       "      <th>num_expediente</th>\n",
       "      <th>fecha</th>\n",
       "      <th>hora</th>\n",
       "      <th>localizacion</th>\n",
       "      <th>numero</th>\n",
       "      <th>cod_distrito</th>\n",
       "      <th>distrito</th>\n",
       "      <th>tipo_accidente</th>\n",
       "      <th>estado_meteorológico</th>\n",
       "      <th>tipo_vehiculo</th>\n",
       "      <th>tipo_persona</th>\n",
       "      <th>rango_edad</th>\n",
       "      <th>sexo</th>\n",
       "      <th>cod_lesividad</th>\n",
       "      <th>lesividad</th>\n",
       "      <th>coordenada_x_utm</th>\n",
       "      <th>coordenada_y_utm</th>\n",
       "      <th>positiva_alcohol</th>\n",
       "      <th>positiva_droga</th>\n",
       "    </tr>\n",
       "  </thead>\n",
       "  <tbody>\n",
       "    <tr>\n",
       "      <th>0</th>\n",
       "      <td>2018S017842</td>\n",
       "      <td>2019-02-04</td>\n",
       "      <td>9:10:00</td>\n",
       "      <td>CALL. ALBERTO AGUILERA, 1</td>\n",
       "      <td>1</td>\n",
       "      <td>1.0</td>\n",
       "      <td>CENTRO</td>\n",
       "      <td>Colisión lateral</td>\n",
       "      <td>Despejado</td>\n",
       "      <td>Motocicleta &gt; 125cc</td>\n",
       "      <td>Conductor</td>\n",
       "      <td>De 45 a 49 años</td>\n",
       "      <td>Hombre</td>\n",
       "      <td>7.0</td>\n",
       "      <td>Asistencia sanitaria sólo en el lugar del acci...</td>\n",
       "      <td>440068.0</td>\n",
       "      <td>4475679.0</td>\n",
       "      <td>False</td>\n",
       "      <td>NaN</td>\n",
       "    </tr>\n",
       "    <tr>\n",
       "      <th>1</th>\n",
       "      <td>2018S017842</td>\n",
       "      <td>2019-02-04</td>\n",
       "      <td>9:10:00</td>\n",
       "      <td>CALL. ALBERTO AGUILERA, 1</td>\n",
       "      <td>1</td>\n",
       "      <td>1.0</td>\n",
       "      <td>CENTRO</td>\n",
       "      <td>Colisión lateral</td>\n",
       "      <td>Despejado</td>\n",
       "      <td>Turismo</td>\n",
       "      <td>Conductor</td>\n",
       "      <td>De 30 a 34 años</td>\n",
       "      <td>Mujer</td>\n",
       "      <td>7.0</td>\n",
       "      <td>Asistencia sanitaria sólo en el lugar del acci...</td>\n",
       "      <td>440068.0</td>\n",
       "      <td>4475679.0</td>\n",
       "      <td>False</td>\n",
       "      <td>NaN</td>\n",
       "    </tr>\n",
       "    <tr>\n",
       "      <th>2</th>\n",
       "      <td>2019S000001</td>\n",
       "      <td>2019-01-01</td>\n",
       "      <td>3:45:00</td>\n",
       "      <td>PASEO. SANTA MARIA DE LA CABEZA / PLAZA. ELIPTICA</td>\n",
       "      <td>168</td>\n",
       "      <td>11.0</td>\n",
       "      <td>CARABANCHEL</td>\n",
       "      <td>Alcance</td>\n",
       "      <td>NaN</td>\n",
       "      <td>Furgoneta</td>\n",
       "      <td>Conductor</td>\n",
       "      <td>De 40 a 44 años</td>\n",
       "      <td>Hombre</td>\n",
       "      <td>NaN</td>\n",
       "      <td>NaN</td>\n",
       "      <td>439139.0</td>\n",
       "      <td>4470836.0</td>\n",
       "      <td>True</td>\n",
       "      <td>NaN</td>\n",
       "    </tr>\n",
       "    <tr>\n",
       "      <th>3</th>\n",
       "      <td>2019S000001</td>\n",
       "      <td>2019-01-01</td>\n",
       "      <td>3:45:00</td>\n",
       "      <td>PASEO. SANTA MARIA DE LA CABEZA / PLAZA. ELIPTICA</td>\n",
       "      <td>168</td>\n",
       "      <td>11.0</td>\n",
       "      <td>CARABANCHEL</td>\n",
       "      <td>Alcance</td>\n",
       "      <td>NaN</td>\n",
       "      <td>Turismo</td>\n",
       "      <td>Conductor</td>\n",
       "      <td>De 40 a 44 años</td>\n",
       "      <td>Mujer</td>\n",
       "      <td>NaN</td>\n",
       "      <td>NaN</td>\n",
       "      <td>439139.0</td>\n",
       "      <td>4470836.0</td>\n",
       "      <td>False</td>\n",
       "      <td>NaN</td>\n",
       "    </tr>\n",
       "    <tr>\n",
       "      <th>4</th>\n",
       "      <td>2019S000001</td>\n",
       "      <td>2019-01-01</td>\n",
       "      <td>3:45:00</td>\n",
       "      <td>PASEO. SANTA MARIA DE LA CABEZA / PLAZA. ELIPTICA</td>\n",
       "      <td>168</td>\n",
       "      <td>11.0</td>\n",
       "      <td>CARABANCHEL</td>\n",
       "      <td>Alcance</td>\n",
       "      <td>NaN</td>\n",
       "      <td>Turismo</td>\n",
       "      <td>Conductor</td>\n",
       "      <td>De 45 a 49 años</td>\n",
       "      <td>Mujer</td>\n",
       "      <td>NaN</td>\n",
       "      <td>NaN</td>\n",
       "      <td>439139.0</td>\n",
       "      <td>4470836.0</td>\n",
       "      <td>False</td>\n",
       "      <td>NaN</td>\n",
       "    </tr>\n",
       "  </tbody>\n",
       "</table>\n",
       "</div>"
      ],
      "text/plain": [
       "  num_expediente      fecha     hora  \\\n",
       "0    2018S017842 2019-02-04  9:10:00   \n",
       "1    2018S017842 2019-02-04  9:10:00   \n",
       "2    2019S000001 2019-01-01  3:45:00   \n",
       "3    2019S000001 2019-01-01  3:45:00   \n",
       "4    2019S000001 2019-01-01  3:45:00   \n",
       "\n",
       "                                        localizacion numero  cod_distrito  \\\n",
       "0                          CALL. ALBERTO AGUILERA, 1      1           1.0   \n",
       "1                          CALL. ALBERTO AGUILERA, 1      1           1.0   \n",
       "2  PASEO. SANTA MARIA DE LA CABEZA / PLAZA. ELIPTICA    168          11.0   \n",
       "3  PASEO. SANTA MARIA DE LA CABEZA / PLAZA. ELIPTICA    168          11.0   \n",
       "4  PASEO. SANTA MARIA DE LA CABEZA / PLAZA. ELIPTICA    168          11.0   \n",
       "\n",
       "      distrito    tipo_accidente estado_meteorológico        tipo_vehiculo  \\\n",
       "0       CENTRO  Colisión lateral            Despejado  Motocicleta > 125cc   \n",
       "1       CENTRO  Colisión lateral            Despejado              Turismo   \n",
       "2  CARABANCHEL           Alcance                  NaN            Furgoneta   \n",
       "3  CARABANCHEL           Alcance                  NaN              Turismo   \n",
       "4  CARABANCHEL           Alcance                  NaN              Turismo   \n",
       "\n",
       "  tipo_persona       rango_edad    sexo  cod_lesividad  \\\n",
       "0    Conductor  De 45 a 49 años  Hombre            7.0   \n",
       "1    Conductor  De 30 a 34 años   Mujer            7.0   \n",
       "2    Conductor  De 40 a 44 años  Hombre            NaN   \n",
       "3    Conductor  De 40 a 44 años   Mujer            NaN   \n",
       "4    Conductor  De 45 a 49 años   Mujer            NaN   \n",
       "\n",
       "                                           lesividad coordenada_x_utm  \\\n",
       "0  Asistencia sanitaria sólo en el lugar del acci...         440068.0   \n",
       "1  Asistencia sanitaria sólo en el lugar del acci...         440068.0   \n",
       "2                                                NaN         439139.0   \n",
       "3                                                NaN         439139.0   \n",
       "4                                                NaN         439139.0   \n",
       "\n",
       "  coordenada_y_utm positiva_alcohol positiva_droga  \n",
       "0        4475679.0            False            NaN  \n",
       "1        4475679.0            False            NaN  \n",
       "2        4470836.0             True            NaN  \n",
       "3        4470836.0            False            NaN  \n",
       "4        4470836.0            False            NaN  "
      ]
     },
     "execution_count": 3,
     "metadata": {},
     "output_type": "execute_result"
    }
   ],
   "source": [
    "df[\"fecha\"] = pd.to_datetime(df[\"fecha\"], format=r\"%d/%m/%Y\")\n",
    "\n",
    "df[\"cod_lesividad\"] = pd.to_numeric(df[\"cod_lesividad\"])\n",
    "\n",
    "df[\"positiva_alcohol\"] = df[\"positiva_alcohol\"].replace(\"S\", True)\n",
    "df[\"positiva_alcohol\"] = df[\"positiva_alcohol\"].replace(\"N\", False)\n",
    "df[\"positiva_droga\"] = df[\"positiva_droga\"].replace(1, True)\n",
    "\n",
    "df.head()"
   ]
  },
  {
   "cell_type": "markdown",
   "metadata": {},
   "source": [
    "### 2. Borrar todas las columnas referidas a coordenadas.\n",
    "\n",
    "Usamos la función `drop()` para seleccionar las columnas y borrarlas en el propio dataframe. Mostramos la cabecera para comprobar."
   ]
  },
  {
   "cell_type": "code",
   "execution_count": 4,
   "metadata": {},
   "outputs": [
    {
     "data": {
      "text/html": [
       "<div>\n",
       "<style scoped>\n",
       "    .dataframe tbody tr th:only-of-type {\n",
       "        vertical-align: middle;\n",
       "    }\n",
       "\n",
       "    .dataframe tbody tr th {\n",
       "        vertical-align: top;\n",
       "    }\n",
       "\n",
       "    .dataframe thead th {\n",
       "        text-align: right;\n",
       "    }\n",
       "</style>\n",
       "<table border=\"1\" class=\"dataframe\">\n",
       "  <thead>\n",
       "    <tr style=\"text-align: right;\">\n",
       "      <th></th>\n",
       "      <th>num_expediente</th>\n",
       "      <th>fecha</th>\n",
       "      <th>hora</th>\n",
       "      <th>localizacion</th>\n",
       "      <th>numero</th>\n",
       "      <th>cod_distrito</th>\n",
       "      <th>distrito</th>\n",
       "      <th>tipo_accidente</th>\n",
       "      <th>estado_meteorológico</th>\n",
       "      <th>tipo_vehiculo</th>\n",
       "      <th>tipo_persona</th>\n",
       "      <th>rango_edad</th>\n",
       "      <th>sexo</th>\n",
       "      <th>cod_lesividad</th>\n",
       "      <th>lesividad</th>\n",
       "      <th>positiva_alcohol</th>\n",
       "      <th>positiva_droga</th>\n",
       "    </tr>\n",
       "  </thead>\n",
       "  <tbody>\n",
       "    <tr>\n",
       "      <th>0</th>\n",
       "      <td>2018S017842</td>\n",
       "      <td>2019-02-04</td>\n",
       "      <td>9:10:00</td>\n",
       "      <td>CALL. ALBERTO AGUILERA, 1</td>\n",
       "      <td>1</td>\n",
       "      <td>1.0</td>\n",
       "      <td>CENTRO</td>\n",
       "      <td>Colisión lateral</td>\n",
       "      <td>Despejado</td>\n",
       "      <td>Motocicleta &gt; 125cc</td>\n",
       "      <td>Conductor</td>\n",
       "      <td>De 45 a 49 años</td>\n",
       "      <td>Hombre</td>\n",
       "      <td>7.0</td>\n",
       "      <td>Asistencia sanitaria sólo en el lugar del acci...</td>\n",
       "      <td>False</td>\n",
       "      <td>NaN</td>\n",
       "    </tr>\n",
       "    <tr>\n",
       "      <th>1</th>\n",
       "      <td>2018S017842</td>\n",
       "      <td>2019-02-04</td>\n",
       "      <td>9:10:00</td>\n",
       "      <td>CALL. ALBERTO AGUILERA, 1</td>\n",
       "      <td>1</td>\n",
       "      <td>1.0</td>\n",
       "      <td>CENTRO</td>\n",
       "      <td>Colisión lateral</td>\n",
       "      <td>Despejado</td>\n",
       "      <td>Turismo</td>\n",
       "      <td>Conductor</td>\n",
       "      <td>De 30 a 34 años</td>\n",
       "      <td>Mujer</td>\n",
       "      <td>7.0</td>\n",
       "      <td>Asistencia sanitaria sólo en el lugar del acci...</td>\n",
       "      <td>False</td>\n",
       "      <td>NaN</td>\n",
       "    </tr>\n",
       "    <tr>\n",
       "      <th>2</th>\n",
       "      <td>2019S000001</td>\n",
       "      <td>2019-01-01</td>\n",
       "      <td>3:45:00</td>\n",
       "      <td>PASEO. SANTA MARIA DE LA CABEZA / PLAZA. ELIPTICA</td>\n",
       "      <td>168</td>\n",
       "      <td>11.0</td>\n",
       "      <td>CARABANCHEL</td>\n",
       "      <td>Alcance</td>\n",
       "      <td>NaN</td>\n",
       "      <td>Furgoneta</td>\n",
       "      <td>Conductor</td>\n",
       "      <td>De 40 a 44 años</td>\n",
       "      <td>Hombre</td>\n",
       "      <td>NaN</td>\n",
       "      <td>NaN</td>\n",
       "      <td>True</td>\n",
       "      <td>NaN</td>\n",
       "    </tr>\n",
       "    <tr>\n",
       "      <th>3</th>\n",
       "      <td>2019S000001</td>\n",
       "      <td>2019-01-01</td>\n",
       "      <td>3:45:00</td>\n",
       "      <td>PASEO. SANTA MARIA DE LA CABEZA / PLAZA. ELIPTICA</td>\n",
       "      <td>168</td>\n",
       "      <td>11.0</td>\n",
       "      <td>CARABANCHEL</td>\n",
       "      <td>Alcance</td>\n",
       "      <td>NaN</td>\n",
       "      <td>Turismo</td>\n",
       "      <td>Conductor</td>\n",
       "      <td>De 40 a 44 años</td>\n",
       "      <td>Mujer</td>\n",
       "      <td>NaN</td>\n",
       "      <td>NaN</td>\n",
       "      <td>False</td>\n",
       "      <td>NaN</td>\n",
       "    </tr>\n",
       "    <tr>\n",
       "      <th>4</th>\n",
       "      <td>2019S000001</td>\n",
       "      <td>2019-01-01</td>\n",
       "      <td>3:45:00</td>\n",
       "      <td>PASEO. SANTA MARIA DE LA CABEZA / PLAZA. ELIPTICA</td>\n",
       "      <td>168</td>\n",
       "      <td>11.0</td>\n",
       "      <td>CARABANCHEL</td>\n",
       "      <td>Alcance</td>\n",
       "      <td>NaN</td>\n",
       "      <td>Turismo</td>\n",
       "      <td>Conductor</td>\n",
       "      <td>De 45 a 49 años</td>\n",
       "      <td>Mujer</td>\n",
       "      <td>NaN</td>\n",
       "      <td>NaN</td>\n",
       "      <td>False</td>\n",
       "      <td>NaN</td>\n",
       "    </tr>\n",
       "  </tbody>\n",
       "</table>\n",
       "</div>"
      ],
      "text/plain": [
       "  num_expediente      fecha     hora  \\\n",
       "0    2018S017842 2019-02-04  9:10:00   \n",
       "1    2018S017842 2019-02-04  9:10:00   \n",
       "2    2019S000001 2019-01-01  3:45:00   \n",
       "3    2019S000001 2019-01-01  3:45:00   \n",
       "4    2019S000001 2019-01-01  3:45:00   \n",
       "\n",
       "                                        localizacion numero  cod_distrito  \\\n",
       "0                          CALL. ALBERTO AGUILERA, 1      1           1.0   \n",
       "1                          CALL. ALBERTO AGUILERA, 1      1           1.0   \n",
       "2  PASEO. SANTA MARIA DE LA CABEZA / PLAZA. ELIPTICA    168          11.0   \n",
       "3  PASEO. SANTA MARIA DE LA CABEZA / PLAZA. ELIPTICA    168          11.0   \n",
       "4  PASEO. SANTA MARIA DE LA CABEZA / PLAZA. ELIPTICA    168          11.0   \n",
       "\n",
       "      distrito    tipo_accidente estado_meteorológico        tipo_vehiculo  \\\n",
       "0       CENTRO  Colisión lateral            Despejado  Motocicleta > 125cc   \n",
       "1       CENTRO  Colisión lateral            Despejado              Turismo   \n",
       "2  CARABANCHEL           Alcance                  NaN            Furgoneta   \n",
       "3  CARABANCHEL           Alcance                  NaN              Turismo   \n",
       "4  CARABANCHEL           Alcance                  NaN              Turismo   \n",
       "\n",
       "  tipo_persona       rango_edad    sexo  cod_lesividad  \\\n",
       "0    Conductor  De 45 a 49 años  Hombre            7.0   \n",
       "1    Conductor  De 30 a 34 años   Mujer            7.0   \n",
       "2    Conductor  De 40 a 44 años  Hombre            NaN   \n",
       "3    Conductor  De 40 a 44 años   Mujer            NaN   \n",
       "4    Conductor  De 45 a 49 años   Mujer            NaN   \n",
       "\n",
       "                                           lesividad positiva_alcohol  \\\n",
       "0  Asistencia sanitaria sólo en el lugar del acci...            False   \n",
       "1  Asistencia sanitaria sólo en el lugar del acci...            False   \n",
       "2                                                NaN             True   \n",
       "3                                                NaN            False   \n",
       "4                                                NaN            False   \n",
       "\n",
       "  positiva_droga  \n",
       "0            NaN  \n",
       "1            NaN  \n",
       "2            NaN  \n",
       "3            NaN  \n",
       "4            NaN  "
      ]
     },
     "execution_count": 4,
     "metadata": {},
     "output_type": "execute_result"
    }
   ],
   "source": [
    "df.drop([\"coordenada_x_utm\", \"coordenada_y_utm\"], axis=1, inplace=True)\n",
    "\n",
    "df.head()"
   ]
  },
  {
   "cell_type": "markdown",
   "metadata": {},
   "source": [
    "### 3. Reestructurar columna \"tipo de vehículo\" para obtener las siguientes categorías.\n",
    "\n",
    "- Turismo\n",
    "- Motocicleta\n",
    "- Furgoneta\n",
    "- Bicicleta\n",
    "- Camión\n",
    "- Autobús\n",
    "- Otro vehículo.\n",
    "\n",
    "__Los valores nulos se incluyen en la categoría \"otro vehículo\".__\n",
    "\n",
    "__Mostrar el número de categorías nuevas junto con su frecuencia y porcentaje.__\n",
    "\n"
   ]
  },
  {
   "cell_type": "markdown",
   "metadata": {},
   "source": [
    "Primero, obtenemos los valores únicos de la columna para conocer todos los tipos que hay que reestructurar."
   ]
  },
  {
   "cell_type": "code",
   "execution_count": 5,
   "metadata": {},
   "outputs": [
    {
     "data": {
      "text/plain": [
       "array(['Motocicleta > 125cc', 'Turismo', 'Furgoneta', 'Autobús',\n",
       "       'Ciclomotor', 'Motocicleta hasta 125cc', 'Todo terreno',\n",
       "       'Bicicleta', 'Camión rígido', 'Maquinaria de obras',\n",
       "       'Tractocamión', nan, 'Cuadriciclo no ligero',\n",
       "       'Vehículo articulado', 'Autobús articulado',\n",
       "       'Otros vehículos con motor', 'Autocaravana', 'Patinete', 'Ciclo',\n",
       "       'Cuadriciclo ligero', 'VMU eléctrico', 'Semiremolque',\n",
       "       'Microbús <= 17 plazas', 'Sin especificar', 'Autobus EMT',\n",
       "       'Remolque', 'Tranvía', 'Caravana', 'Camión de bomberos',\n",
       "       'Otros vehículos sin motor', 'Bicicleta EPAC (pedaleo asistido)',\n",
       "       'Moto de tres ruedas > 125cc', 'Tren/metro', 'Ambulancia SAMUR',\n",
       "       'Moto de tres ruedas hasta 125cc',\n",
       "       'Ciclomotor de dos ruedas L1e-B', 'Maquinaria agrícola',\n",
       "       'Autobús articulado EMT', 'Ciclomotor de tres ruedas',\n",
       "       'Ciclo de motor L1e-A', 'Patinete no eléctrico'], dtype=object)"
      ]
     },
     "execution_count": 5,
     "metadata": {},
     "output_type": "execute_result"
    }
   ],
   "source": [
    "df[\"tipo_vehiculo\"].unique()"
   ]
  },
  {
   "cell_type": "markdown",
   "metadata": {},
   "source": [
    "La reestructuración se realizará de la siguiente forma:\n",
    "- __Turismo:__ Turismo, Todo terreno, Cuadriciclo no ligero, Autocaravana, Cuadriciclo ligero.\n",
    "\n",
    "- __Motocicleta:__ Motocicleta > 125cc, Ciclomotor, Motocicleta hasta 125cc, Moto de tres ruedas > 125cc, Moto de tres ruedas hasta 125cc, Ciclomotor de dos ruedas L1e-B, Ciclomotor de tres ruedas, Ciclo de motor L1e-A.\n",
    "\n",
    "- __Furgoneta:__ Furgoneta, Ambulancia SAMUR.\n",
    "\n",
    "- __Bicicleta:__ Bicicleta, Ciclo, Bicicleta EPAC (pedaleo asistido).\n",
    "\n",
    "- __Camión:__ Camión rígido, Tractocamión, Camión de bomberos, Semiremolque, Remolque.\n",
    "\n",
    "- __Autobús:__ Autobús, Autobús articulado, Microbús <= 17 plazas, Autobus EMT, Autobús articulado EMT.\n",
    "\n",
    "- __Otro vehículo:__ Maquinaria de obras, Vehículo articulado, Otros vehículos con motor, Patinete, VMU eléctrico, Sin especificar, Tranvía, Caravana, Otros vehículos sin motor, Tren/metro, Maquinaria agrícola, Patinete no eléctrico, valores nulos (nan).\n",
    "\n",
    "Al usar `replace()`, modificamos los valores por los nuevos. Se podría usar el argumento `inplace=True`, pero lo hacemos haciendo una igualdad porque se muestra un aviso de que dejará de usarse en Pandas 3.0.\n",
    "\n",
    "Utilizando un diccionario con los datos nuevos en las claves y los datos antiguos en los valores, a través de un bucle, aplicamos el método `.replace()` a la columna de \"tipo_vehiculo\"."
   ]
  },
  {
   "cell_type": "code",
   "execution_count": 6,
   "metadata": {},
   "outputs": [],
   "source": [
    "valores_nuevos = {\n",
    "    \"Turismo\": [\"Turismo\", \"Todo terreno\", \"Cuadriciclo no ligero\", \"Autocaravana\", \"Cuadriciclo ligero\"],\n",
    "    \"Motocicleta\": [\"Motocicleta > 125cc\", \"Ciclomotor\", \"Motocicleta hasta 125cc\", \"Moto de tres ruedas > 125cc\",\n",
    "                    \"Moto de tres ruedas hasta 125cc\", \"Ciclomotor de dos ruedas L1e-B\", \"Ciclomotor de tres ruedas\",\n",
    "                    \"Ciclo de motor L1e-A\"],\n",
    "    \"Furgoneta\": [\"Furgoneta\", \"Ambulancia SAMUR\"],\n",
    "    \"Bicicleta\": [\"Bicicleta\", \"Ciclo\", \"Bicicleta EPAC (pedaleo asistido)\"],\n",
    "    \"Camión\": [\"Camión rígido\", \"Tractocamión\", \"Camión de bomberos\", \"Semiremolque\", \"Remolque\"],\n",
    "    \"Autobús\": [\"Autobús\", \"Autobús articulado\", \"Microbús <= 17 plazas\", \"Autobus EMT\", \"Autobús articulado EMT\"],\n",
    "    \"Otro vehículo\": [\"Maquinaria de obras\", \"Vehículo articulado\", \"Otros vehículos con motor\", \"Patinete\",\n",
    "                      \"VMU eléctrico\", \"Sin especificar\", \"Tranvía\", \"Caravana\", \"Otros vehículos sin motor\",\n",
    "                      \"Tren/metro\", \"Maquinaria agrícola\", \"Patinete no eléctrico\"]\n",
    "}\n",
    "\n",
    "for valor_nuevo, valor_antiguo in valores_nuevos.items():\n",
    "    df[\"tipo_vehiculo\"] = df[\"tipo_vehiculo\"].replace(valor_antiguo, valor_nuevo)\n",
    "\n",
    "df[\"tipo_vehiculo\"] = df[\"tipo_vehiculo\"].fillna(\"Otro vehículo\")"
   ]
  },
  {
   "cell_type": "markdown",
   "metadata": {},
   "source": [
    "Mostramos las nuevas categorías.\n",
    "\n",
    "Para mostrar las frecuencias y los porcentajes, optamos por un diagrama de barras para las frecuencias y un gráfico circular para los porcentajes. Para ello, utilizamos plotly, concretamente la librería de graph_objects (go) y la librería de subplots para juntar las dos gráficas en una visualización.\n",
    "\n",
    "Al tener dos gráficas distintas, hay que indicar en las especificaciones que una es de tipo barras y otra de tipo circular, y añadimos los títulos.\n",
    "\n",
    "Posteriormente, creamos cada gráfica con go. Como no se pueden pasar a los gráficos series ni dataframes, usamos los métodos `.index` y `.values` para obtener los valores que deseamos.\n",
    "\n",
    "Una vez configuradas las gráficas, las visualizamos."
   ]
  },
  {
   "cell_type": "code",
   "execution_count": 7,
   "metadata": {},
   "outputs": [
    {
     "name": "stdout",
     "output_type": "stream",
     "text": [
      "Nuevas categorías: ['Motocicleta' 'Turismo' 'Furgoneta' 'Autobús' 'Bicicleta' 'Camión'\n",
      " 'Otro vehículo']\n"
     ]
    },
    {
     "data": {
      "application/vnd.plotly.v1+json": {
       "config": {
        "plotlyServerURL": "https://plot.ly"
       },
       "data": [
        {
         "marker": {
          "color": "green"
         },
         "name": "Cantidad",
         "type": "bar",
         "x": [
          "Turismo",
          "Motocicleta",
          "Furgoneta",
          "Autobús",
          "Camión",
          "Otro vehículo",
          "Bicicleta"
         ],
         "xaxis": "x",
         "y": [
          185250,
          32549,
          17012,
          7665,
          7237,
          6900,
          5462
         ],
         "yaxis": "y"
        },
        {
         "domain": {
          "x": [
           0.55,
           1
          ],
          "y": [
           0,
           1
          ]
         },
         "labels": [
          "Turismo",
          "Motocicleta",
          "Furgoneta",
          "Autobús",
          "Camión",
          "Otro vehículo",
          "Bicicleta"
         ],
         "marker": {
          "colors": [
           "rgb(27,158,119)",
           "rgb(217,95,2)",
           "rgb(117,112,179)",
           "rgb(231,41,138)",
           "rgb(102,166,30)",
           "rgb(230,171,2)",
           "rgb(166,118,29)",
           "rgb(102,102,102)"
          ]
         },
         "name": "Porcentaje",
         "type": "pie",
         "values": [
          70.68587236478108,
          12.419727177334734,
          6.491271582562244,
          2.924735285700658,
          2.7614232567013257,
          2.6328341123724126,
          2.084136220547553
         ]
        }
       ],
       "layout": {
        "annotations": [
         {
          "font": {
           "size": 16
          },
          "showarrow": false,
          "text": "Frecuencias",
          "x": 0.225,
          "xanchor": "center",
          "xref": "paper",
          "y": 1,
          "yanchor": "bottom",
          "yref": "paper"
         },
         {
          "font": {
           "size": 16
          },
          "showarrow": false,
          "text": "Porcentajes",
          "x": 0.775,
          "xanchor": "center",
          "xref": "paper",
          "y": 1,
          "yanchor": "bottom",
          "yref": "paper"
         }
        ],
        "template": {
         "data": {
          "bar": [
           {
            "error_x": {
             "color": "#2a3f5f"
            },
            "error_y": {
             "color": "#2a3f5f"
            },
            "marker": {
             "line": {
              "color": "#E5ECF6",
              "width": 0.5
             },
             "pattern": {
              "fillmode": "overlay",
              "size": 10,
              "solidity": 0.2
             }
            },
            "type": "bar"
           }
          ],
          "barpolar": [
           {
            "marker": {
             "line": {
              "color": "#E5ECF6",
              "width": 0.5
             },
             "pattern": {
              "fillmode": "overlay",
              "size": 10,
              "solidity": 0.2
             }
            },
            "type": "barpolar"
           }
          ],
          "carpet": [
           {
            "aaxis": {
             "endlinecolor": "#2a3f5f",
             "gridcolor": "white",
             "linecolor": "white",
             "minorgridcolor": "white",
             "startlinecolor": "#2a3f5f"
            },
            "baxis": {
             "endlinecolor": "#2a3f5f",
             "gridcolor": "white",
             "linecolor": "white",
             "minorgridcolor": "white",
             "startlinecolor": "#2a3f5f"
            },
            "type": "carpet"
           }
          ],
          "choropleth": [
           {
            "colorbar": {
             "outlinewidth": 0,
             "ticks": ""
            },
            "type": "choropleth"
           }
          ],
          "contour": [
           {
            "colorbar": {
             "outlinewidth": 0,
             "ticks": ""
            },
            "colorscale": [
             [
              0,
              "#0d0887"
             ],
             [
              0.1111111111111111,
              "#46039f"
             ],
             [
              0.2222222222222222,
              "#7201a8"
             ],
             [
              0.3333333333333333,
              "#9c179e"
             ],
             [
              0.4444444444444444,
              "#bd3786"
             ],
             [
              0.5555555555555556,
              "#d8576b"
             ],
             [
              0.6666666666666666,
              "#ed7953"
             ],
             [
              0.7777777777777778,
              "#fb9f3a"
             ],
             [
              0.8888888888888888,
              "#fdca26"
             ],
             [
              1,
              "#f0f921"
             ]
            ],
            "type": "contour"
           }
          ],
          "contourcarpet": [
           {
            "colorbar": {
             "outlinewidth": 0,
             "ticks": ""
            },
            "type": "contourcarpet"
           }
          ],
          "heatmap": [
           {
            "colorbar": {
             "outlinewidth": 0,
             "ticks": ""
            },
            "colorscale": [
             [
              0,
              "#0d0887"
             ],
             [
              0.1111111111111111,
              "#46039f"
             ],
             [
              0.2222222222222222,
              "#7201a8"
             ],
             [
              0.3333333333333333,
              "#9c179e"
             ],
             [
              0.4444444444444444,
              "#bd3786"
             ],
             [
              0.5555555555555556,
              "#d8576b"
             ],
             [
              0.6666666666666666,
              "#ed7953"
             ],
             [
              0.7777777777777778,
              "#fb9f3a"
             ],
             [
              0.8888888888888888,
              "#fdca26"
             ],
             [
              1,
              "#f0f921"
             ]
            ],
            "type": "heatmap"
           }
          ],
          "heatmapgl": [
           {
            "colorbar": {
             "outlinewidth": 0,
             "ticks": ""
            },
            "colorscale": [
             [
              0,
              "#0d0887"
             ],
             [
              0.1111111111111111,
              "#46039f"
             ],
             [
              0.2222222222222222,
              "#7201a8"
             ],
             [
              0.3333333333333333,
              "#9c179e"
             ],
             [
              0.4444444444444444,
              "#bd3786"
             ],
             [
              0.5555555555555556,
              "#d8576b"
             ],
             [
              0.6666666666666666,
              "#ed7953"
             ],
             [
              0.7777777777777778,
              "#fb9f3a"
             ],
             [
              0.8888888888888888,
              "#fdca26"
             ],
             [
              1,
              "#f0f921"
             ]
            ],
            "type": "heatmapgl"
           }
          ],
          "histogram": [
           {
            "marker": {
             "pattern": {
              "fillmode": "overlay",
              "size": 10,
              "solidity": 0.2
             }
            },
            "type": "histogram"
           }
          ],
          "histogram2d": [
           {
            "colorbar": {
             "outlinewidth": 0,
             "ticks": ""
            },
            "colorscale": [
             [
              0,
              "#0d0887"
             ],
             [
              0.1111111111111111,
              "#46039f"
             ],
             [
              0.2222222222222222,
              "#7201a8"
             ],
             [
              0.3333333333333333,
              "#9c179e"
             ],
             [
              0.4444444444444444,
              "#bd3786"
             ],
             [
              0.5555555555555556,
              "#d8576b"
             ],
             [
              0.6666666666666666,
              "#ed7953"
             ],
             [
              0.7777777777777778,
              "#fb9f3a"
             ],
             [
              0.8888888888888888,
              "#fdca26"
             ],
             [
              1,
              "#f0f921"
             ]
            ],
            "type": "histogram2d"
           }
          ],
          "histogram2dcontour": [
           {
            "colorbar": {
             "outlinewidth": 0,
             "ticks": ""
            },
            "colorscale": [
             [
              0,
              "#0d0887"
             ],
             [
              0.1111111111111111,
              "#46039f"
             ],
             [
              0.2222222222222222,
              "#7201a8"
             ],
             [
              0.3333333333333333,
              "#9c179e"
             ],
             [
              0.4444444444444444,
              "#bd3786"
             ],
             [
              0.5555555555555556,
              "#d8576b"
             ],
             [
              0.6666666666666666,
              "#ed7953"
             ],
             [
              0.7777777777777778,
              "#fb9f3a"
             ],
             [
              0.8888888888888888,
              "#fdca26"
             ],
             [
              1,
              "#f0f921"
             ]
            ],
            "type": "histogram2dcontour"
           }
          ],
          "mesh3d": [
           {
            "colorbar": {
             "outlinewidth": 0,
             "ticks": ""
            },
            "type": "mesh3d"
           }
          ],
          "parcoords": [
           {
            "line": {
             "colorbar": {
              "outlinewidth": 0,
              "ticks": ""
             }
            },
            "type": "parcoords"
           }
          ],
          "pie": [
           {
            "automargin": true,
            "type": "pie"
           }
          ],
          "scatter": [
           {
            "fillpattern": {
             "fillmode": "overlay",
             "size": 10,
             "solidity": 0.2
            },
            "type": "scatter"
           }
          ],
          "scatter3d": [
           {
            "line": {
             "colorbar": {
              "outlinewidth": 0,
              "ticks": ""
             }
            },
            "marker": {
             "colorbar": {
              "outlinewidth": 0,
              "ticks": ""
             }
            },
            "type": "scatter3d"
           }
          ],
          "scattercarpet": [
           {
            "marker": {
             "colorbar": {
              "outlinewidth": 0,
              "ticks": ""
             }
            },
            "type": "scattercarpet"
           }
          ],
          "scattergeo": [
           {
            "marker": {
             "colorbar": {
              "outlinewidth": 0,
              "ticks": ""
             }
            },
            "type": "scattergeo"
           }
          ],
          "scattergl": [
           {
            "marker": {
             "colorbar": {
              "outlinewidth": 0,
              "ticks": ""
             }
            },
            "type": "scattergl"
           }
          ],
          "scattermapbox": [
           {
            "marker": {
             "colorbar": {
              "outlinewidth": 0,
              "ticks": ""
             }
            },
            "type": "scattermapbox"
           }
          ],
          "scatterpolar": [
           {
            "marker": {
             "colorbar": {
              "outlinewidth": 0,
              "ticks": ""
             }
            },
            "type": "scatterpolar"
           }
          ],
          "scatterpolargl": [
           {
            "marker": {
             "colorbar": {
              "outlinewidth": 0,
              "ticks": ""
             }
            },
            "type": "scatterpolargl"
           }
          ],
          "scatterternary": [
           {
            "marker": {
             "colorbar": {
              "outlinewidth": 0,
              "ticks": ""
             }
            },
            "type": "scatterternary"
           }
          ],
          "surface": [
           {
            "colorbar": {
             "outlinewidth": 0,
             "ticks": ""
            },
            "colorscale": [
             [
              0,
              "#0d0887"
             ],
             [
              0.1111111111111111,
              "#46039f"
             ],
             [
              0.2222222222222222,
              "#7201a8"
             ],
             [
              0.3333333333333333,
              "#9c179e"
             ],
             [
              0.4444444444444444,
              "#bd3786"
             ],
             [
              0.5555555555555556,
              "#d8576b"
             ],
             [
              0.6666666666666666,
              "#ed7953"
             ],
             [
              0.7777777777777778,
              "#fb9f3a"
             ],
             [
              0.8888888888888888,
              "#fdca26"
             ],
             [
              1,
              "#f0f921"
             ]
            ],
            "type": "surface"
           }
          ],
          "table": [
           {
            "cells": {
             "fill": {
              "color": "#EBF0F8"
             },
             "line": {
              "color": "white"
             }
            },
            "header": {
             "fill": {
              "color": "#C8D4E3"
             },
             "line": {
              "color": "white"
             }
            },
            "type": "table"
           }
          ]
         },
         "layout": {
          "annotationdefaults": {
           "arrowcolor": "#2a3f5f",
           "arrowhead": 0,
           "arrowwidth": 1
          },
          "autotypenumbers": "strict",
          "coloraxis": {
           "colorbar": {
            "outlinewidth": 0,
            "ticks": ""
           }
          },
          "colorscale": {
           "diverging": [
            [
             0,
             "#8e0152"
            ],
            [
             0.1,
             "#c51b7d"
            ],
            [
             0.2,
             "#de77ae"
            ],
            [
             0.3,
             "#f1b6da"
            ],
            [
             0.4,
             "#fde0ef"
            ],
            [
             0.5,
             "#f7f7f7"
            ],
            [
             0.6,
             "#e6f5d0"
            ],
            [
             0.7,
             "#b8e186"
            ],
            [
             0.8,
             "#7fbc41"
            ],
            [
             0.9,
             "#4d9221"
            ],
            [
             1,
             "#276419"
            ]
           ],
           "sequential": [
            [
             0,
             "#0d0887"
            ],
            [
             0.1111111111111111,
             "#46039f"
            ],
            [
             0.2222222222222222,
             "#7201a8"
            ],
            [
             0.3333333333333333,
             "#9c179e"
            ],
            [
             0.4444444444444444,
             "#bd3786"
            ],
            [
             0.5555555555555556,
             "#d8576b"
            ],
            [
             0.6666666666666666,
             "#ed7953"
            ],
            [
             0.7777777777777778,
             "#fb9f3a"
            ],
            [
             0.8888888888888888,
             "#fdca26"
            ],
            [
             1,
             "#f0f921"
            ]
           ],
           "sequentialminus": [
            [
             0,
             "#0d0887"
            ],
            [
             0.1111111111111111,
             "#46039f"
            ],
            [
             0.2222222222222222,
             "#7201a8"
            ],
            [
             0.3333333333333333,
             "#9c179e"
            ],
            [
             0.4444444444444444,
             "#bd3786"
            ],
            [
             0.5555555555555556,
             "#d8576b"
            ],
            [
             0.6666666666666666,
             "#ed7953"
            ],
            [
             0.7777777777777778,
             "#fb9f3a"
            ],
            [
             0.8888888888888888,
             "#fdca26"
            ],
            [
             1,
             "#f0f921"
            ]
           ]
          },
          "colorway": [
           "#636efa",
           "#EF553B",
           "#00cc96",
           "#ab63fa",
           "#FFA15A",
           "#19d3f3",
           "#FF6692",
           "#B6E880",
           "#FF97FF",
           "#FECB52"
          ],
          "font": {
           "color": "#2a3f5f"
          },
          "geo": {
           "bgcolor": "white",
           "lakecolor": "white",
           "landcolor": "#E5ECF6",
           "showlakes": true,
           "showland": true,
           "subunitcolor": "white"
          },
          "hoverlabel": {
           "align": "left"
          },
          "hovermode": "closest",
          "mapbox": {
           "style": "light"
          },
          "paper_bgcolor": "white",
          "plot_bgcolor": "#E5ECF6",
          "polar": {
           "angularaxis": {
            "gridcolor": "white",
            "linecolor": "white",
            "ticks": ""
           },
           "bgcolor": "#E5ECF6",
           "radialaxis": {
            "gridcolor": "white",
            "linecolor": "white",
            "ticks": ""
           }
          },
          "scene": {
           "xaxis": {
            "backgroundcolor": "#E5ECF6",
            "gridcolor": "white",
            "gridwidth": 2,
            "linecolor": "white",
            "showbackground": true,
            "ticks": "",
            "zerolinecolor": "white"
           },
           "yaxis": {
            "backgroundcolor": "#E5ECF6",
            "gridcolor": "white",
            "gridwidth": 2,
            "linecolor": "white",
            "showbackground": true,
            "ticks": "",
            "zerolinecolor": "white"
           },
           "zaxis": {
            "backgroundcolor": "#E5ECF6",
            "gridcolor": "white",
            "gridwidth": 2,
            "linecolor": "white",
            "showbackground": true,
            "ticks": "",
            "zerolinecolor": "white"
           }
          },
          "shapedefaults": {
           "line": {
            "color": "#2a3f5f"
           }
          },
          "ternary": {
           "aaxis": {
            "gridcolor": "white",
            "linecolor": "white",
            "ticks": ""
           },
           "baxis": {
            "gridcolor": "white",
            "linecolor": "white",
            "ticks": ""
           },
           "bgcolor": "#E5ECF6",
           "caxis": {
            "gridcolor": "white",
            "linecolor": "white",
            "ticks": ""
           }
          },
          "title": {
           "x": 0.05
          },
          "xaxis": {
           "automargin": true,
           "gridcolor": "white",
           "linecolor": "white",
           "ticks": "",
           "title": {
            "standoff": 15
           },
           "zerolinecolor": "white",
           "zerolinewidth": 2
          },
          "yaxis": {
           "automargin": true,
           "gridcolor": "white",
           "linecolor": "white",
           "ticks": "",
           "title": {
            "standoff": 15
           },
           "zerolinecolor": "white",
           "zerolinewidth": 2
          }
         }
        },
        "title": {
         "text": "Frecuencias y porcentajes"
        },
        "xaxis": {
         "anchor": "y",
         "domain": [
          0,
          0.45
         ]
        },
        "yaxis": {
         "anchor": "x",
         "domain": [
          0,
          1
         ]
        }
       }
      }
     },
     "metadata": {},
     "output_type": "display_data"
    }
   ],
   "source": [
    "print(f\"Nuevas categorías: {df[\"tipo_vehiculo\"].unique()}\")\n",
    "\n",
    "from plotly.subplots import make_subplots\n",
    "import plotly.graph_objects as go\n",
    "from plotly.express import colors\n",
    "\n",
    "fig = make_subplots(rows=1, cols=2, subplot_titles=(\"Frecuencias\", \"Porcentajes\"),\n",
    "                    specs=[[{\"type\": \"bar\"}, {\"type\": \"pie\"}]]) # Creación de los subplots.\n",
    "\n",
    "frecuencias = go.Bar(\n",
    "    x=df[\"tipo_vehiculo\"].value_counts().index,\n",
    "    y=df[\"tipo_vehiculo\"].value_counts().values,\n",
    "    name=\"Cantidad\",\n",
    "    marker=dict(color=\"green\")\n",
    ") # Diagrama de barras.\n",
    "\n",
    "fig.add_trace(frecuencias, row=1, col=1)\n",
    "\n",
    "porcentajes = go.Pie(\n",
    "    labels=df[\"tipo_vehiculo\"].value_counts().index,\n",
    "    values=(df[\"tipo_vehiculo\"].value_counts().values / df[\"tipo_vehiculo\"].value_counts().values.sum() * 100),\n",
    "    name=\"Porcentaje\",\n",
    "    marker=dict(colors=colors.qualitative.Dark2)\n",
    ") # Gráfico circular.\n",
    "\n",
    "fig.add_trace(porcentajes, row=1, col=2)\n",
    "\n",
    "fig.update_layout(\n",
    "    title=\"Frecuencias y porcentajes\"\n",
    ")\n",
    "\n",
    "fig.show() # Visualización de los gráficos."
   ]
  },
  {
   "cell_type": "markdown",
   "metadata": {},
   "source": [
    "### 4. Análisis de valores nulos de todas las columnas.\n",
    "\n",
    "- Revisa si hay columnas que son íntegramente valores nulos, si esto ocurre, borra esas columnas.\n",
    "- Para la columna positivo droga, rellena los nulos con 0.\n",
    "- Para la columna positivo alcohol, rellena los nulos con \"N\".\n",
    "- Para las columnas referidas a lesividad, rellenaremos los datos faltantes con \"Sin atención sanitaria\" (en código lesividad, pondremos valor 0).\n",
    "- Para el estado meteorológico emplearemos la categoría ya existente \"Se desconoce\".\n",
    "- El resto de valores nulos los eliminaremos del conjunto de datos.\n",
    "- ¿Cuántas filas y columnas tienes ahora?"
   ]
  },
  {
   "cell_type": "markdown",
   "metadata": {},
   "source": [
    "Realizamos un bucle para comprobar si cada columna contiene todo valores nulos y, en tal caso, la elimina.\n",
    "\n",
    "Para las columnas \"positiva_droga\" y \"positiva_alcohol\", como lo hemos transformado a booleanos, en vez de sustituir por 0 y \"N\", sustituimos por False. Además, ahora que hemos transformado los valores nulos, aprovechamos para pasar el dtype a bool, ya que antes no podíamos hacerlo."
   ]
  },
  {
   "cell_type": "code",
   "execution_count": 8,
   "metadata": {},
   "outputs": [
    {
     "name": "stderr",
     "output_type": "stream",
     "text": [
      "C:\\Users\\jorge\\AppData\\Local\\Temp\\ipykernel_17240\\888342853.py:8: FutureWarning:\n",
      "\n",
      "Downcasting object dtype arrays on .fillna, .ffill, .bfill is deprecated and will change in a future version. Call result.infer_objects(copy=False) instead. To opt-in to the future behavior, set `pd.set_option('future.no_silent_downcasting', True)`\n",
      "\n",
      "C:\\Users\\jorge\\AppData\\Local\\Temp\\ipykernel_17240\\888342853.py:9: FutureWarning:\n",
      "\n",
      "Downcasting object dtype arrays on .fillna, .ffill, .bfill is deprecated and will change in a future version. Call result.infer_objects(copy=False) instead. To opt-in to the future behavior, set `pd.set_option('future.no_silent_downcasting', True)`\n",
      "\n"
     ]
    },
    {
     "name": "stdout",
     "output_type": "stream",
     "text": [
      "El dataframe ahora tiene 262057 filas x 17 columnas.\n"
     ]
    }
   ],
   "source": [
    "# Este bucle revisa si cada columna tiene todo valores nulos y la borra, avisándolo.\n",
    "for columna in df.columns:\n",
    "    if all(df[columna].isna()):\n",
    "        df.drop([columna], axis=1, inplace=True)\n",
    "        print(f\"Columna {columna} eliminada.\")\n",
    "\n",
    "# Transformación de nulos de alcohol y droga en False.\n",
    "df[\"positiva_droga\"] = df[\"positiva_droga\"].fillna(False)\n",
    "df[\"positiva_alcohol\"] = df[\"positiva_alcohol\"].fillna(False)\n",
    "\n",
    "# Columnas a dtype bool.\n",
    "df[\"positiva_droga\"] = df[\"positiva_droga\"].astype(\"bool\")\n",
    "df[\"positiva_alcohol\"] = df[\"positiva_alcohol\"].astype(\"bool\")\n",
    "\n",
    "# Transformación de nulos de lesividad a 0 y \"Sin atención sanitaria\".\n",
    "df[\"lesividad\"] = df[\"lesividad\"].fillna(\"Sin atención sanitaria\")\n",
    "df[\"cod_lesividad\"] = df[\"cod_lesividad\"].fillna(0)\n",
    "\n",
    "# Transformación de nulos de estado meteorológico a \"Se desconoce\".\n",
    "df[\"estado_meteorológico\"] = df[\"estado_meteorológico\"].fillna(\"Se desconoce\")\n",
    "\n",
    "# Eliminación de filas con valores nulos.\n",
    "df = df.dropna()\n",
    "\n",
    "\n",
    "print(f\"El dataframe ahora tiene {df.shape[0]} filas x {df.shape[1]} columnas.\")"
   ]
  },
  {
   "cell_type": "markdown",
   "metadata": {},
   "source": [
    "### 5. Genera una nueva categoría llamada \"Otro accidente\" para todas aquellas categorías que tengan un porcentaje inferior al 10% en la columna \"tipo_accidente\".\n",
    "\n",
    "Mostramos primero una gráfica para poder ver claramente qué categorías tienen un porcentaje inferior al 10%.\n",
    "\n",
    "Después, aplicamos un filtro booleano para hacer el reemplazo de las categorías inferiores al 10% por \"Otro accidente\"."
   ]
  },
  {
   "cell_type": "code",
   "execution_count": 9,
   "metadata": {},
   "outputs": [
    {
     "data": {
      "application/vnd.plotly.v1+json": {
       "config": {
        "plotlyServerURL": "https://plot.ly"
       },
       "data": [
        {
         "labels": [
          "Colisión fronto-lateral",
          "Alcance",
          "Colisión lateral",
          "Choque contra obstáculo fijo",
          "Colisión múltiple",
          "Atropello a persona",
          "Caída",
          "Colisión frontal",
          "Otro",
          "Solo salida de la vía",
          "Vuelco",
          "Atropello a animal",
          "Despeñamiento"
         ],
         "marker": {
          "colors": [
           "rgb(27,158,119)",
           "rgb(217,95,2)",
           "rgb(117,112,179)",
           "rgb(231,41,138)",
           "rgb(102,166,30)",
           "rgb(230,171,2)",
           "rgb(166,118,29)",
           "rgb(102,102,102)"
          ]
         },
         "type": "pie",
         "values": [
          25.291444227782506,
          23.5105339678009,
          14.723132753561249,
          12.059208492808816,
          6.686331599613824,
          6.592458892531014,
          5.925046840954449,
          2.4319136676371937,
          1.782055049092373,
          0.4186112181700927,
          0.3842675448471134,
          0.18812701053587577,
          0.00686873466459587
         ]
        }
       ],
       "layout": {
        "template": {
         "data": {
          "bar": [
           {
            "error_x": {
             "color": "#2a3f5f"
            },
            "error_y": {
             "color": "#2a3f5f"
            },
            "marker": {
             "line": {
              "color": "#E5ECF6",
              "width": 0.5
             },
             "pattern": {
              "fillmode": "overlay",
              "size": 10,
              "solidity": 0.2
             }
            },
            "type": "bar"
           }
          ],
          "barpolar": [
           {
            "marker": {
             "line": {
              "color": "#E5ECF6",
              "width": 0.5
             },
             "pattern": {
              "fillmode": "overlay",
              "size": 10,
              "solidity": 0.2
             }
            },
            "type": "barpolar"
           }
          ],
          "carpet": [
           {
            "aaxis": {
             "endlinecolor": "#2a3f5f",
             "gridcolor": "white",
             "linecolor": "white",
             "minorgridcolor": "white",
             "startlinecolor": "#2a3f5f"
            },
            "baxis": {
             "endlinecolor": "#2a3f5f",
             "gridcolor": "white",
             "linecolor": "white",
             "minorgridcolor": "white",
             "startlinecolor": "#2a3f5f"
            },
            "type": "carpet"
           }
          ],
          "choropleth": [
           {
            "colorbar": {
             "outlinewidth": 0,
             "ticks": ""
            },
            "type": "choropleth"
           }
          ],
          "contour": [
           {
            "colorbar": {
             "outlinewidth": 0,
             "ticks": ""
            },
            "colorscale": [
             [
              0,
              "#0d0887"
             ],
             [
              0.1111111111111111,
              "#46039f"
             ],
             [
              0.2222222222222222,
              "#7201a8"
             ],
             [
              0.3333333333333333,
              "#9c179e"
             ],
             [
              0.4444444444444444,
              "#bd3786"
             ],
             [
              0.5555555555555556,
              "#d8576b"
             ],
             [
              0.6666666666666666,
              "#ed7953"
             ],
             [
              0.7777777777777778,
              "#fb9f3a"
             ],
             [
              0.8888888888888888,
              "#fdca26"
             ],
             [
              1,
              "#f0f921"
             ]
            ],
            "type": "contour"
           }
          ],
          "contourcarpet": [
           {
            "colorbar": {
             "outlinewidth": 0,
             "ticks": ""
            },
            "type": "contourcarpet"
           }
          ],
          "heatmap": [
           {
            "colorbar": {
             "outlinewidth": 0,
             "ticks": ""
            },
            "colorscale": [
             [
              0,
              "#0d0887"
             ],
             [
              0.1111111111111111,
              "#46039f"
             ],
             [
              0.2222222222222222,
              "#7201a8"
             ],
             [
              0.3333333333333333,
              "#9c179e"
             ],
             [
              0.4444444444444444,
              "#bd3786"
             ],
             [
              0.5555555555555556,
              "#d8576b"
             ],
             [
              0.6666666666666666,
              "#ed7953"
             ],
             [
              0.7777777777777778,
              "#fb9f3a"
             ],
             [
              0.8888888888888888,
              "#fdca26"
             ],
             [
              1,
              "#f0f921"
             ]
            ],
            "type": "heatmap"
           }
          ],
          "heatmapgl": [
           {
            "colorbar": {
             "outlinewidth": 0,
             "ticks": ""
            },
            "colorscale": [
             [
              0,
              "#0d0887"
             ],
             [
              0.1111111111111111,
              "#46039f"
             ],
             [
              0.2222222222222222,
              "#7201a8"
             ],
             [
              0.3333333333333333,
              "#9c179e"
             ],
             [
              0.4444444444444444,
              "#bd3786"
             ],
             [
              0.5555555555555556,
              "#d8576b"
             ],
             [
              0.6666666666666666,
              "#ed7953"
             ],
             [
              0.7777777777777778,
              "#fb9f3a"
             ],
             [
              0.8888888888888888,
              "#fdca26"
             ],
             [
              1,
              "#f0f921"
             ]
            ],
            "type": "heatmapgl"
           }
          ],
          "histogram": [
           {
            "marker": {
             "pattern": {
              "fillmode": "overlay",
              "size": 10,
              "solidity": 0.2
             }
            },
            "type": "histogram"
           }
          ],
          "histogram2d": [
           {
            "colorbar": {
             "outlinewidth": 0,
             "ticks": ""
            },
            "colorscale": [
             [
              0,
              "#0d0887"
             ],
             [
              0.1111111111111111,
              "#46039f"
             ],
             [
              0.2222222222222222,
              "#7201a8"
             ],
             [
              0.3333333333333333,
              "#9c179e"
             ],
             [
              0.4444444444444444,
              "#bd3786"
             ],
             [
              0.5555555555555556,
              "#d8576b"
             ],
             [
              0.6666666666666666,
              "#ed7953"
             ],
             [
              0.7777777777777778,
              "#fb9f3a"
             ],
             [
              0.8888888888888888,
              "#fdca26"
             ],
             [
              1,
              "#f0f921"
             ]
            ],
            "type": "histogram2d"
           }
          ],
          "histogram2dcontour": [
           {
            "colorbar": {
             "outlinewidth": 0,
             "ticks": ""
            },
            "colorscale": [
             [
              0,
              "#0d0887"
             ],
             [
              0.1111111111111111,
              "#46039f"
             ],
             [
              0.2222222222222222,
              "#7201a8"
             ],
             [
              0.3333333333333333,
              "#9c179e"
             ],
             [
              0.4444444444444444,
              "#bd3786"
             ],
             [
              0.5555555555555556,
              "#d8576b"
             ],
             [
              0.6666666666666666,
              "#ed7953"
             ],
             [
              0.7777777777777778,
              "#fb9f3a"
             ],
             [
              0.8888888888888888,
              "#fdca26"
             ],
             [
              1,
              "#f0f921"
             ]
            ],
            "type": "histogram2dcontour"
           }
          ],
          "mesh3d": [
           {
            "colorbar": {
             "outlinewidth": 0,
             "ticks": ""
            },
            "type": "mesh3d"
           }
          ],
          "parcoords": [
           {
            "line": {
             "colorbar": {
              "outlinewidth": 0,
              "ticks": ""
             }
            },
            "type": "parcoords"
           }
          ],
          "pie": [
           {
            "automargin": true,
            "type": "pie"
           }
          ],
          "scatter": [
           {
            "fillpattern": {
             "fillmode": "overlay",
             "size": 10,
             "solidity": 0.2
            },
            "type": "scatter"
           }
          ],
          "scatter3d": [
           {
            "line": {
             "colorbar": {
              "outlinewidth": 0,
              "ticks": ""
             }
            },
            "marker": {
             "colorbar": {
              "outlinewidth": 0,
              "ticks": ""
             }
            },
            "type": "scatter3d"
           }
          ],
          "scattercarpet": [
           {
            "marker": {
             "colorbar": {
              "outlinewidth": 0,
              "ticks": ""
             }
            },
            "type": "scattercarpet"
           }
          ],
          "scattergeo": [
           {
            "marker": {
             "colorbar": {
              "outlinewidth": 0,
              "ticks": ""
             }
            },
            "type": "scattergeo"
           }
          ],
          "scattergl": [
           {
            "marker": {
             "colorbar": {
              "outlinewidth": 0,
              "ticks": ""
             }
            },
            "type": "scattergl"
           }
          ],
          "scattermapbox": [
           {
            "marker": {
             "colorbar": {
              "outlinewidth": 0,
              "ticks": ""
             }
            },
            "type": "scattermapbox"
           }
          ],
          "scatterpolar": [
           {
            "marker": {
             "colorbar": {
              "outlinewidth": 0,
              "ticks": ""
             }
            },
            "type": "scatterpolar"
           }
          ],
          "scatterpolargl": [
           {
            "marker": {
             "colorbar": {
              "outlinewidth": 0,
              "ticks": ""
             }
            },
            "type": "scatterpolargl"
           }
          ],
          "scatterternary": [
           {
            "marker": {
             "colorbar": {
              "outlinewidth": 0,
              "ticks": ""
             }
            },
            "type": "scatterternary"
           }
          ],
          "surface": [
           {
            "colorbar": {
             "outlinewidth": 0,
             "ticks": ""
            },
            "colorscale": [
             [
              0,
              "#0d0887"
             ],
             [
              0.1111111111111111,
              "#46039f"
             ],
             [
              0.2222222222222222,
              "#7201a8"
             ],
             [
              0.3333333333333333,
              "#9c179e"
             ],
             [
              0.4444444444444444,
              "#bd3786"
             ],
             [
              0.5555555555555556,
              "#d8576b"
             ],
             [
              0.6666666666666666,
              "#ed7953"
             ],
             [
              0.7777777777777778,
              "#fb9f3a"
             ],
             [
              0.8888888888888888,
              "#fdca26"
             ],
             [
              1,
              "#f0f921"
             ]
            ],
            "type": "surface"
           }
          ],
          "table": [
           {
            "cells": {
             "fill": {
              "color": "#EBF0F8"
             },
             "line": {
              "color": "white"
             }
            },
            "header": {
             "fill": {
              "color": "#C8D4E3"
             },
             "line": {
              "color": "white"
             }
            },
            "type": "table"
           }
          ]
         },
         "layout": {
          "annotationdefaults": {
           "arrowcolor": "#2a3f5f",
           "arrowhead": 0,
           "arrowwidth": 1
          },
          "autotypenumbers": "strict",
          "coloraxis": {
           "colorbar": {
            "outlinewidth": 0,
            "ticks": ""
           }
          },
          "colorscale": {
           "diverging": [
            [
             0,
             "#8e0152"
            ],
            [
             0.1,
             "#c51b7d"
            ],
            [
             0.2,
             "#de77ae"
            ],
            [
             0.3,
             "#f1b6da"
            ],
            [
             0.4,
             "#fde0ef"
            ],
            [
             0.5,
             "#f7f7f7"
            ],
            [
             0.6,
             "#e6f5d0"
            ],
            [
             0.7,
             "#b8e186"
            ],
            [
             0.8,
             "#7fbc41"
            ],
            [
             0.9,
             "#4d9221"
            ],
            [
             1,
             "#276419"
            ]
           ],
           "sequential": [
            [
             0,
             "#0d0887"
            ],
            [
             0.1111111111111111,
             "#46039f"
            ],
            [
             0.2222222222222222,
             "#7201a8"
            ],
            [
             0.3333333333333333,
             "#9c179e"
            ],
            [
             0.4444444444444444,
             "#bd3786"
            ],
            [
             0.5555555555555556,
             "#d8576b"
            ],
            [
             0.6666666666666666,
             "#ed7953"
            ],
            [
             0.7777777777777778,
             "#fb9f3a"
            ],
            [
             0.8888888888888888,
             "#fdca26"
            ],
            [
             1,
             "#f0f921"
            ]
           ],
           "sequentialminus": [
            [
             0,
             "#0d0887"
            ],
            [
             0.1111111111111111,
             "#46039f"
            ],
            [
             0.2222222222222222,
             "#7201a8"
            ],
            [
             0.3333333333333333,
             "#9c179e"
            ],
            [
             0.4444444444444444,
             "#bd3786"
            ],
            [
             0.5555555555555556,
             "#d8576b"
            ],
            [
             0.6666666666666666,
             "#ed7953"
            ],
            [
             0.7777777777777778,
             "#fb9f3a"
            ],
            [
             0.8888888888888888,
             "#fdca26"
            ],
            [
             1,
             "#f0f921"
            ]
           ]
          },
          "colorway": [
           "#636efa",
           "#EF553B",
           "#00cc96",
           "#ab63fa",
           "#FFA15A",
           "#19d3f3",
           "#FF6692",
           "#B6E880",
           "#FF97FF",
           "#FECB52"
          ],
          "font": {
           "color": "#2a3f5f"
          },
          "geo": {
           "bgcolor": "white",
           "lakecolor": "white",
           "landcolor": "#E5ECF6",
           "showlakes": true,
           "showland": true,
           "subunitcolor": "white"
          },
          "hoverlabel": {
           "align": "left"
          },
          "hovermode": "closest",
          "mapbox": {
           "style": "light"
          },
          "paper_bgcolor": "white",
          "plot_bgcolor": "#E5ECF6",
          "polar": {
           "angularaxis": {
            "gridcolor": "white",
            "linecolor": "white",
            "ticks": ""
           },
           "bgcolor": "#E5ECF6",
           "radialaxis": {
            "gridcolor": "white",
            "linecolor": "white",
            "ticks": ""
           }
          },
          "scene": {
           "xaxis": {
            "backgroundcolor": "#E5ECF6",
            "gridcolor": "white",
            "gridwidth": 2,
            "linecolor": "white",
            "showbackground": true,
            "ticks": "",
            "zerolinecolor": "white"
           },
           "yaxis": {
            "backgroundcolor": "#E5ECF6",
            "gridcolor": "white",
            "gridwidth": 2,
            "linecolor": "white",
            "showbackground": true,
            "ticks": "",
            "zerolinecolor": "white"
           },
           "zaxis": {
            "backgroundcolor": "#E5ECF6",
            "gridcolor": "white",
            "gridwidth": 2,
            "linecolor": "white",
            "showbackground": true,
            "ticks": "",
            "zerolinecolor": "white"
           }
          },
          "shapedefaults": {
           "line": {
            "color": "#2a3f5f"
           }
          },
          "ternary": {
           "aaxis": {
            "gridcolor": "white",
            "linecolor": "white",
            "ticks": ""
           },
           "baxis": {
            "gridcolor": "white",
            "linecolor": "white",
            "ticks": ""
           },
           "bgcolor": "#E5ECF6",
           "caxis": {
            "gridcolor": "white",
            "linecolor": "white",
            "ticks": ""
           }
          },
          "title": {
           "x": 0.05
          },
          "xaxis": {
           "automargin": true,
           "gridcolor": "white",
           "linecolor": "white",
           "ticks": "",
           "title": {
            "standoff": 15
           },
           "zerolinecolor": "white",
           "zerolinewidth": 2
          },
          "yaxis": {
           "automargin": true,
           "gridcolor": "white",
           "linecolor": "white",
           "ticks": "",
           "title": {
            "standoff": 15
           },
           "zerolinecolor": "white",
           "zerolinewidth": 2
          }
         }
        },
        "title": {
         "text": "Porcentajes de cada categoría de accidente"
        }
       }
      }
     },
     "metadata": {},
     "output_type": "display_data"
    },
    {
     "name": "stdout",
     "output_type": "stream",
     "text": [
      "Categorías actuales: ['Colisión lateral' 'Alcance' 'Choque contra obstáculo fijo'\n",
      " 'Colisión fronto-lateral' 'Otro accidente']\n"
     ]
    }
   ],
   "source": [
    "porcentajes_acc = df[\"tipo_accidente\"].value_counts().values / df[\"tipo_accidente\"].value_counts().values.sum() * 100\n",
    "\n",
    "# Visualización.\n",
    "trace = go.Pie(\n",
    "    labels=df[\"tipo_accidente\"].value_counts().index,\n",
    "    values=(porcentajes_acc),\n",
    "    marker=dict(colors=colors.qualitative.Dark2)\n",
    ")\n",
    "\n",
    "layout = go.Layout(\n",
    "    title=\"Porcentajes de cada categoría de accidente\"\n",
    ")\n",
    "\n",
    "fig = go.Figure(\n",
    "    data=trace,\n",
    "    layout=layout\n",
    ")\n",
    "\n",
    "fig.show()\n",
    "\n",
    "\n",
    "# Reemplazo de categorías.\n",
    "filtro = df[\"tipo_accidente\"].unique()[porcentajes_acc < 10]\n",
    "\n",
    "df[\"tipo_accidente\"] = df[\"tipo_accidente\"].replace(filtro, \"Otro accidente\")\n",
    "\n",
    "print(f\"Categorías actuales: {df[\"tipo_accidente\"].unique()}\")"
   ]
  },
  {
   "cell_type": "markdown",
   "metadata": {},
   "source": [
    "### 6. ¿Hay algún accidente en donde los implicados dieran positivo en la prueba de alcohol y también en la prueba de drogas? Muestra el número de implicados, así como el número de expedientes diferentes.\n",
    "\n",
    "Creamos un filtro que seleccione únicamente las filas que incluyan valores True tanto en \"positiva_alcohol\" como en \"positiva_droga\". Con ese filtro, hacemos la suma del conteo de sus valores para extraer el número de casos.\n",
    "\n",
    "Sacando de ese mismo filtro la cantidad de números de expediente únicos (es decir, que no se repitan), obtenemos el número de expediente diferentes. Al ser menor que el número de implicados, esto indica que en un mismo accidente varias personas dieron positivo para las dos variables."
   ]
  },
  {
   "cell_type": "code",
   "execution_count": 10,
   "metadata": {},
   "outputs": [
    {
     "name": "stdout",
     "output_type": "stream",
     "text": [
      "Número de implicados: 185\n",
      "Número de expedientes diferentes: 181\n"
     ]
    }
   ],
   "source": [
    "doble_positivo = df[(df[\"positiva_alcohol\"] == True)\n",
    "                    & (df[\"positiva_droga\"] == True)]\n",
    "\n",
    "print(f\"Número de implicados: {doble_positivo.value_counts().sum()}\")\n",
    "\n",
    "print(f\"Número de expedientes diferentes: {len(doble_positivo[\"num_expediente\"].unique())}\")"
   ]
  },
  {
   "cell_type": "markdown",
   "metadata": {},
   "source": [
    "### 7. ¿Cuál es el tipo de accidente más común para aquellos implicados que habían dado positivo en alcohol? ¿Y para aquellos implicados que no dieron positivo en la prueba de alcohol? ¿Qué diferencias observas?\n",
    "\n",
    "Realizamos de nuevo un filtro para obtener solo las filas con positivo en alcohol, y otro para las filas que dieron negativo.\n",
    "\n",
    "Para ambos casos, sacamos la moda de la columna \"tipo_accidente\"."
   ]
  },
  {
   "cell_type": "code",
   "execution_count": 11,
   "metadata": {},
   "outputs": [
    {
     "name": "stdout",
     "output_type": "stream",
     "text": [
      "Accidentes más comunes:\n",
      "    - Positivo en alcohol: Choque contra obstáculo fijo\n",
      "    - Negativo en alcohol: Colisión fronto-lateral\n",
      "\n"
     ]
    }
   ],
   "source": [
    "positivo_alcohol = df[df[\"positiva_alcohol\"] == True]\n",
    "negativo_alcohol = df[df[\"positiva_alcohol\"] == False]\n",
    "\n",
    "print(f\"\"\"Accidentes más comunes:\n",
    "    - Positivo en alcohol: {positivo_alcohol[\"tipo_accidente\"].mode().values[0]}\n",
    "    - Negativo en alcohol: {negativo_alcohol[\"tipo_accidente\"].mode().values[0]}\n",
    "\"\"\")"
   ]
  },
  {
   "cell_type": "markdown",
   "metadata": {},
   "source": [
    "Como diferencia, en los accidentes donde los implicados dieron negativo en alcohol, es más común que estén involucrados otros vehículos. Esto indica que las causas del accidente pueden ser diversas, incluyendo causas ajenas al conductor.\n",
    "\n",
    "Sin embargo, los implicados que dieron positivo en alcohol suelen colisionar contra obstáculos fijos. Esto indica que probablemente iban tan ciegos que ni vieron el muro que tenían delante, haciendo que la causa del accidente esté más directamente asociada al conductor que a otras causas."
   ]
  },
  {
   "cell_type": "markdown",
   "metadata": {},
   "source": [
    "### 8. Para cada tipo de vehículo, muestra visualmente el número de accidentes en función del estado meteorológico.\n",
    "\n",
    "**Nota: En este apartado tomaremos cada fila como un accidente, es decir, no tienes por qué agrupar por número de expediente.**"
   ]
  },
  {
   "cell_type": "markdown",
   "metadata": {},
   "source": [
    "En este caso, usamos plotly express para elaborar la gráfica, ya que graph objects lo hace más complejo.\n",
    "\n",
    "Optamos por un gráfico de barras apiladas, ya que es muy semejante a un diagrama de mosaico, pero más sencillo de generar.\n",
    "\n",
    "Creamos un df que se llame \"cantidad\" para agrupar por estado meteorológico y tipo de vehículo, creando una columna que indique la cantidad de accidentes de cada tipo de vehículo por estado meteorológico.\n",
    "\n",
    "Una vez hecho esto, creamos el diagrama de barras apiladas, en donde la _x_ representa el tipo de vehículo, la _y_ la cantidad, y los colores el estado meteorológico. Ajustamos parámetros de visualización, como los nombres o los colores para intentar representarlo de forma más comprensible."
   ]
  },
  {
   "cell_type": "code",
   "execution_count": 12,
   "metadata": {},
   "outputs": [
    {
     "data": {
      "application/vnd.plotly.v1+json": {
       "config": {
        "plotlyServerURL": "https://plot.ly"
       },
       "data": [
        {
         "alignmentgroup": "True",
         "hovertemplate": "Estado meteorológico=Despejado<br>Tipo de vehículo=%{x}<br>Cantidad=%{y}<extra></extra>",
         "legendgroup": "Despejado",
         "marker": {
          "color": "gold",
          "pattern": {
           "shape": ""
          }
         },
         "name": "Despejado",
         "offsetgroup": "Despejado",
         "orientation": "v",
         "showlegend": true,
         "textposition": "auto",
         "type": "bar",
         "x": [
          "Autobús",
          "Bicicleta",
          "Camión",
          "Furgoneta",
          "Motocicleta",
          "Otro vehículo",
          "Turismo"
         ],
         "xaxis": "x",
         "y": [
          6059,
          4637,
          5234,
          12626,
          25897,
          5468,
          137318
         ],
         "yaxis": "y"
        },
        {
         "alignmentgroup": "True",
         "hovertemplate": "Estado meteorológico=Granizando<br>Tipo de vehículo=%{x}<br>Cantidad=%{y}<extra></extra>",
         "legendgroup": "Granizando",
         "marker": {
          "color": "maroon",
          "pattern": {
           "shape": ""
          }
         },
         "name": "Granizando",
         "offsetgroup": "Granizando",
         "orientation": "v",
         "showlegend": true,
         "textposition": "auto",
         "type": "bar",
         "x": [
          "Autobús",
          "Bicicleta",
          "Camión",
          "Furgoneta",
          "Motocicleta",
          "Otro vehículo",
          "Turismo"
         ],
         "xaxis": "x",
         "y": [
          2,
          1,
          1,
          1,
          10,
          1,
          37
         ],
         "yaxis": "y"
        },
        {
         "alignmentgroup": "True",
         "hovertemplate": "Estado meteorológico=LLuvia intensa<br>Tipo de vehículo=%{x}<br>Cantidad=%{y}<extra></extra>",
         "legendgroup": "LLuvia intensa",
         "marker": {
          "color": "rebeccapurple",
          "pattern": {
           "shape": ""
          }
         },
         "name": "LLuvia intensa",
         "offsetgroup": "LLuvia intensa",
         "orientation": "v",
         "showlegend": true,
         "textposition": "auto",
         "type": "bar",
         "x": [
          "Autobús",
          "Bicicleta",
          "Camión",
          "Furgoneta",
          "Motocicleta",
          "Otro vehículo",
          "Turismo"
         ],
         "xaxis": "x",
         "y": [
          72,
          49,
          55,
          203,
          509,
          96,
          2445
         ],
         "yaxis": "y"
        },
        {
         "alignmentgroup": "True",
         "hovertemplate": "Estado meteorológico=Lluvia débil<br>Tipo de vehículo=%{x}<br>Cantidad=%{y}<extra></extra>",
         "legendgroup": "Lluvia débil",
         "marker": {
          "color": "lightskyblue",
          "pattern": {
           "shape": ""
          }
         },
         "name": "Lluvia débil",
         "offsetgroup": "Lluvia débil",
         "orientation": "v",
         "showlegend": true,
         "textposition": "auto",
         "type": "bar",
         "x": [
          "Autobús",
          "Bicicleta",
          "Camión",
          "Furgoneta",
          "Motocicleta",
          "Otro vehículo",
          "Turismo"
         ],
         "xaxis": "x",
         "y": [
          307,
          277,
          337,
          851,
          2336,
          323,
          10462
         ],
         "yaxis": "y"
        },
        {
         "alignmentgroup": "True",
         "hovertemplate": "Estado meteorológico=Nevando<br>Tipo de vehículo=%{x}<br>Cantidad=%{y}<extra></extra>",
         "legendgroup": "Nevando",
         "marker": {
          "color": "snow",
          "pattern": {
           "shape": ""
          }
         },
         "name": "Nevando",
         "offsetgroup": "Nevando",
         "orientation": "v",
         "showlegend": true,
         "textposition": "auto",
         "type": "bar",
         "x": [
          "Autobús",
          "Camión",
          "Furgoneta",
          "Motocicleta",
          "Otro vehículo",
          "Turismo"
         ],
         "xaxis": "x",
         "y": [
          4,
          10,
          5,
          28,
          4,
          169
         ],
         "yaxis": "y"
        },
        {
         "alignmentgroup": "True",
         "hovertemplate": "Estado meteorológico=Nublado<br>Tipo de vehículo=%{x}<br>Cantidad=%{y}<extra></extra>",
         "legendgroup": "Nublado",
         "marker": {
          "color": "grey",
          "pattern": {
           "shape": ""
          }
         },
         "name": "Nublado",
         "offsetgroup": "Nublado",
         "orientation": "v",
         "showlegend": true,
         "textposition": "auto",
         "type": "bar",
         "x": [
          "Autobús",
          "Bicicleta",
          "Camión",
          "Furgoneta",
          "Motocicleta",
          "Otro vehículo",
          "Turismo"
         ],
         "xaxis": "x",
         "y": [
          427,
          284,
          412,
          1080,
          2058,
          355,
          10695
         ],
         "yaxis": "y"
        },
        {
         "alignmentgroup": "True",
         "hovertemplate": "Estado meteorológico=Se desconoce<br>Tipo de vehículo=%{x}<br>Cantidad=%{y}<extra></extra>",
         "legendgroup": "Se desconoce",
         "marker": {
          "color": "sienna",
          "pattern": {
           "shape": ""
          }
         },
         "name": "Se desconoce",
         "offsetgroup": "Se desconoce",
         "orientation": "v",
         "showlegend": true,
         "textposition": "auto",
         "type": "bar",
         "x": [
          "Autobús",
          "Bicicleta",
          "Camión",
          "Furgoneta",
          "Motocicleta",
          "Otro vehículo",
          "Turismo"
         ],
         "xaxis": "x",
         "y": [
          794,
          214,
          1188,
          2246,
          1708,
          651,
          24111
         ],
         "yaxis": "y"
        }
       ],
       "layout": {
        "barmode": "relative",
        "legend": {
         "title": {
          "text": "Estado meteorológico"
         },
         "tracegroupgap": 0
        },
        "template": {
         "data": {
          "bar": [
           {
            "error_x": {
             "color": "#2a3f5f"
            },
            "error_y": {
             "color": "#2a3f5f"
            },
            "marker": {
             "line": {
              "color": "#E5ECF6",
              "width": 0.5
             },
             "pattern": {
              "fillmode": "overlay",
              "size": 10,
              "solidity": 0.2
             }
            },
            "type": "bar"
           }
          ],
          "barpolar": [
           {
            "marker": {
             "line": {
              "color": "#E5ECF6",
              "width": 0.5
             },
             "pattern": {
              "fillmode": "overlay",
              "size": 10,
              "solidity": 0.2
             }
            },
            "type": "barpolar"
           }
          ],
          "carpet": [
           {
            "aaxis": {
             "endlinecolor": "#2a3f5f",
             "gridcolor": "white",
             "linecolor": "white",
             "minorgridcolor": "white",
             "startlinecolor": "#2a3f5f"
            },
            "baxis": {
             "endlinecolor": "#2a3f5f",
             "gridcolor": "white",
             "linecolor": "white",
             "minorgridcolor": "white",
             "startlinecolor": "#2a3f5f"
            },
            "type": "carpet"
           }
          ],
          "choropleth": [
           {
            "colorbar": {
             "outlinewidth": 0,
             "ticks": ""
            },
            "type": "choropleth"
           }
          ],
          "contour": [
           {
            "colorbar": {
             "outlinewidth": 0,
             "ticks": ""
            },
            "colorscale": [
             [
              0,
              "#0d0887"
             ],
             [
              0.1111111111111111,
              "#46039f"
             ],
             [
              0.2222222222222222,
              "#7201a8"
             ],
             [
              0.3333333333333333,
              "#9c179e"
             ],
             [
              0.4444444444444444,
              "#bd3786"
             ],
             [
              0.5555555555555556,
              "#d8576b"
             ],
             [
              0.6666666666666666,
              "#ed7953"
             ],
             [
              0.7777777777777778,
              "#fb9f3a"
             ],
             [
              0.8888888888888888,
              "#fdca26"
             ],
             [
              1,
              "#f0f921"
             ]
            ],
            "type": "contour"
           }
          ],
          "contourcarpet": [
           {
            "colorbar": {
             "outlinewidth": 0,
             "ticks": ""
            },
            "type": "contourcarpet"
           }
          ],
          "heatmap": [
           {
            "colorbar": {
             "outlinewidth": 0,
             "ticks": ""
            },
            "colorscale": [
             [
              0,
              "#0d0887"
             ],
             [
              0.1111111111111111,
              "#46039f"
             ],
             [
              0.2222222222222222,
              "#7201a8"
             ],
             [
              0.3333333333333333,
              "#9c179e"
             ],
             [
              0.4444444444444444,
              "#bd3786"
             ],
             [
              0.5555555555555556,
              "#d8576b"
             ],
             [
              0.6666666666666666,
              "#ed7953"
             ],
             [
              0.7777777777777778,
              "#fb9f3a"
             ],
             [
              0.8888888888888888,
              "#fdca26"
             ],
             [
              1,
              "#f0f921"
             ]
            ],
            "type": "heatmap"
           }
          ],
          "heatmapgl": [
           {
            "colorbar": {
             "outlinewidth": 0,
             "ticks": ""
            },
            "colorscale": [
             [
              0,
              "#0d0887"
             ],
             [
              0.1111111111111111,
              "#46039f"
             ],
             [
              0.2222222222222222,
              "#7201a8"
             ],
             [
              0.3333333333333333,
              "#9c179e"
             ],
             [
              0.4444444444444444,
              "#bd3786"
             ],
             [
              0.5555555555555556,
              "#d8576b"
             ],
             [
              0.6666666666666666,
              "#ed7953"
             ],
             [
              0.7777777777777778,
              "#fb9f3a"
             ],
             [
              0.8888888888888888,
              "#fdca26"
             ],
             [
              1,
              "#f0f921"
             ]
            ],
            "type": "heatmapgl"
           }
          ],
          "histogram": [
           {
            "marker": {
             "pattern": {
              "fillmode": "overlay",
              "size": 10,
              "solidity": 0.2
             }
            },
            "type": "histogram"
           }
          ],
          "histogram2d": [
           {
            "colorbar": {
             "outlinewidth": 0,
             "ticks": ""
            },
            "colorscale": [
             [
              0,
              "#0d0887"
             ],
             [
              0.1111111111111111,
              "#46039f"
             ],
             [
              0.2222222222222222,
              "#7201a8"
             ],
             [
              0.3333333333333333,
              "#9c179e"
             ],
             [
              0.4444444444444444,
              "#bd3786"
             ],
             [
              0.5555555555555556,
              "#d8576b"
             ],
             [
              0.6666666666666666,
              "#ed7953"
             ],
             [
              0.7777777777777778,
              "#fb9f3a"
             ],
             [
              0.8888888888888888,
              "#fdca26"
             ],
             [
              1,
              "#f0f921"
             ]
            ],
            "type": "histogram2d"
           }
          ],
          "histogram2dcontour": [
           {
            "colorbar": {
             "outlinewidth": 0,
             "ticks": ""
            },
            "colorscale": [
             [
              0,
              "#0d0887"
             ],
             [
              0.1111111111111111,
              "#46039f"
             ],
             [
              0.2222222222222222,
              "#7201a8"
             ],
             [
              0.3333333333333333,
              "#9c179e"
             ],
             [
              0.4444444444444444,
              "#bd3786"
             ],
             [
              0.5555555555555556,
              "#d8576b"
             ],
             [
              0.6666666666666666,
              "#ed7953"
             ],
             [
              0.7777777777777778,
              "#fb9f3a"
             ],
             [
              0.8888888888888888,
              "#fdca26"
             ],
             [
              1,
              "#f0f921"
             ]
            ],
            "type": "histogram2dcontour"
           }
          ],
          "mesh3d": [
           {
            "colorbar": {
             "outlinewidth": 0,
             "ticks": ""
            },
            "type": "mesh3d"
           }
          ],
          "parcoords": [
           {
            "line": {
             "colorbar": {
              "outlinewidth": 0,
              "ticks": ""
             }
            },
            "type": "parcoords"
           }
          ],
          "pie": [
           {
            "automargin": true,
            "type": "pie"
           }
          ],
          "scatter": [
           {
            "fillpattern": {
             "fillmode": "overlay",
             "size": 10,
             "solidity": 0.2
            },
            "type": "scatter"
           }
          ],
          "scatter3d": [
           {
            "line": {
             "colorbar": {
              "outlinewidth": 0,
              "ticks": ""
             }
            },
            "marker": {
             "colorbar": {
              "outlinewidth": 0,
              "ticks": ""
             }
            },
            "type": "scatter3d"
           }
          ],
          "scattercarpet": [
           {
            "marker": {
             "colorbar": {
              "outlinewidth": 0,
              "ticks": ""
             }
            },
            "type": "scattercarpet"
           }
          ],
          "scattergeo": [
           {
            "marker": {
             "colorbar": {
              "outlinewidth": 0,
              "ticks": ""
             }
            },
            "type": "scattergeo"
           }
          ],
          "scattergl": [
           {
            "marker": {
             "colorbar": {
              "outlinewidth": 0,
              "ticks": ""
             }
            },
            "type": "scattergl"
           }
          ],
          "scattermapbox": [
           {
            "marker": {
             "colorbar": {
              "outlinewidth": 0,
              "ticks": ""
             }
            },
            "type": "scattermapbox"
           }
          ],
          "scatterpolar": [
           {
            "marker": {
             "colorbar": {
              "outlinewidth": 0,
              "ticks": ""
             }
            },
            "type": "scatterpolar"
           }
          ],
          "scatterpolargl": [
           {
            "marker": {
             "colorbar": {
              "outlinewidth": 0,
              "ticks": ""
             }
            },
            "type": "scatterpolargl"
           }
          ],
          "scatterternary": [
           {
            "marker": {
             "colorbar": {
              "outlinewidth": 0,
              "ticks": ""
             }
            },
            "type": "scatterternary"
           }
          ],
          "surface": [
           {
            "colorbar": {
             "outlinewidth": 0,
             "ticks": ""
            },
            "colorscale": [
             [
              0,
              "#0d0887"
             ],
             [
              0.1111111111111111,
              "#46039f"
             ],
             [
              0.2222222222222222,
              "#7201a8"
             ],
             [
              0.3333333333333333,
              "#9c179e"
             ],
             [
              0.4444444444444444,
              "#bd3786"
             ],
             [
              0.5555555555555556,
              "#d8576b"
             ],
             [
              0.6666666666666666,
              "#ed7953"
             ],
             [
              0.7777777777777778,
              "#fb9f3a"
             ],
             [
              0.8888888888888888,
              "#fdca26"
             ],
             [
              1,
              "#f0f921"
             ]
            ],
            "type": "surface"
           }
          ],
          "table": [
           {
            "cells": {
             "fill": {
              "color": "#EBF0F8"
             },
             "line": {
              "color": "white"
             }
            },
            "header": {
             "fill": {
              "color": "#C8D4E3"
             },
             "line": {
              "color": "white"
             }
            },
            "type": "table"
           }
          ]
         },
         "layout": {
          "annotationdefaults": {
           "arrowcolor": "#2a3f5f",
           "arrowhead": 0,
           "arrowwidth": 1
          },
          "autotypenumbers": "strict",
          "coloraxis": {
           "colorbar": {
            "outlinewidth": 0,
            "ticks": ""
           }
          },
          "colorscale": {
           "diverging": [
            [
             0,
             "#8e0152"
            ],
            [
             0.1,
             "#c51b7d"
            ],
            [
             0.2,
             "#de77ae"
            ],
            [
             0.3,
             "#f1b6da"
            ],
            [
             0.4,
             "#fde0ef"
            ],
            [
             0.5,
             "#f7f7f7"
            ],
            [
             0.6,
             "#e6f5d0"
            ],
            [
             0.7,
             "#b8e186"
            ],
            [
             0.8,
             "#7fbc41"
            ],
            [
             0.9,
             "#4d9221"
            ],
            [
             1,
             "#276419"
            ]
           ],
           "sequential": [
            [
             0,
             "#0d0887"
            ],
            [
             0.1111111111111111,
             "#46039f"
            ],
            [
             0.2222222222222222,
             "#7201a8"
            ],
            [
             0.3333333333333333,
             "#9c179e"
            ],
            [
             0.4444444444444444,
             "#bd3786"
            ],
            [
             0.5555555555555556,
             "#d8576b"
            ],
            [
             0.6666666666666666,
             "#ed7953"
            ],
            [
             0.7777777777777778,
             "#fb9f3a"
            ],
            [
             0.8888888888888888,
             "#fdca26"
            ],
            [
             1,
             "#f0f921"
            ]
           ],
           "sequentialminus": [
            [
             0,
             "#0d0887"
            ],
            [
             0.1111111111111111,
             "#46039f"
            ],
            [
             0.2222222222222222,
             "#7201a8"
            ],
            [
             0.3333333333333333,
             "#9c179e"
            ],
            [
             0.4444444444444444,
             "#bd3786"
            ],
            [
             0.5555555555555556,
             "#d8576b"
            ],
            [
             0.6666666666666666,
             "#ed7953"
            ],
            [
             0.7777777777777778,
             "#fb9f3a"
            ],
            [
             0.8888888888888888,
             "#fdca26"
            ],
            [
             1,
             "#f0f921"
            ]
           ]
          },
          "colorway": [
           "#636efa",
           "#EF553B",
           "#00cc96",
           "#ab63fa",
           "#FFA15A",
           "#19d3f3",
           "#FF6692",
           "#B6E880",
           "#FF97FF",
           "#FECB52"
          ],
          "font": {
           "color": "#2a3f5f"
          },
          "geo": {
           "bgcolor": "white",
           "lakecolor": "white",
           "landcolor": "#E5ECF6",
           "showlakes": true,
           "showland": true,
           "subunitcolor": "white"
          },
          "hoverlabel": {
           "align": "left"
          },
          "hovermode": "closest",
          "mapbox": {
           "style": "light"
          },
          "paper_bgcolor": "white",
          "plot_bgcolor": "#E5ECF6",
          "polar": {
           "angularaxis": {
            "gridcolor": "white",
            "linecolor": "white",
            "ticks": ""
           },
           "bgcolor": "#E5ECF6",
           "radialaxis": {
            "gridcolor": "white",
            "linecolor": "white",
            "ticks": ""
           }
          },
          "scene": {
           "xaxis": {
            "backgroundcolor": "#E5ECF6",
            "gridcolor": "white",
            "gridwidth": 2,
            "linecolor": "white",
            "showbackground": true,
            "ticks": "",
            "zerolinecolor": "white"
           },
           "yaxis": {
            "backgroundcolor": "#E5ECF6",
            "gridcolor": "white",
            "gridwidth": 2,
            "linecolor": "white",
            "showbackground": true,
            "ticks": "",
            "zerolinecolor": "white"
           },
           "zaxis": {
            "backgroundcolor": "#E5ECF6",
            "gridcolor": "white",
            "gridwidth": 2,
            "linecolor": "white",
            "showbackground": true,
            "ticks": "",
            "zerolinecolor": "white"
           }
          },
          "shapedefaults": {
           "line": {
            "color": "#2a3f5f"
           }
          },
          "ternary": {
           "aaxis": {
            "gridcolor": "white",
            "linecolor": "white",
            "ticks": ""
           },
           "baxis": {
            "gridcolor": "white",
            "linecolor": "white",
            "ticks": ""
           },
           "bgcolor": "#E5ECF6",
           "caxis": {
            "gridcolor": "white",
            "linecolor": "white",
            "ticks": ""
           }
          },
          "title": {
           "x": 0.05
          },
          "xaxis": {
           "automargin": true,
           "gridcolor": "white",
           "linecolor": "white",
           "ticks": "",
           "title": {
            "standoff": 15
           },
           "zerolinecolor": "white",
           "zerolinewidth": 2
          },
          "yaxis": {
           "automargin": true,
           "gridcolor": "white",
           "linecolor": "white",
           "ticks": "",
           "title": {
            "standoff": 15
           },
           "zerolinecolor": "white",
           "zerolinewidth": 2
          }
         }
        },
        "title": {
         "text": "Accidentes según estado meteorológico"
        },
        "xaxis": {
         "anchor": "y",
         "categoryarray": [
          "Turismo",
          "Motocicleta",
          "Furgoneta",
          "Autobús",
          "Camión",
          "Bicicleta",
          "Otro vehículo"
         ],
         "categoryorder": "array",
         "domain": [
          0,
          1
         ],
         "title": {
          "text": "Tipo de vehículo"
         }
        },
        "yaxis": {
         "anchor": "x",
         "domain": [
          0,
          1
         ],
         "title": {
          "text": "Cantidad"
         }
        }
       }
      }
     },
     "metadata": {},
     "output_type": "display_data"
    }
   ],
   "source": [
    "import plotly.express as px\n",
    "\n",
    "cantidad = (\n",
    "    df.groupby(['estado_meteorológico', 'tipo_vehiculo'])\n",
    "    .size()\n",
    "    .reset_index(name='cantidad')\n",
    ")\n",
    "\n",
    "fig = px.bar(\n",
    "    cantidad,\n",
    "    x=\"tipo_vehiculo\",\n",
    "    y=\"cantidad\",\n",
    "    color=\"estado_meteorológico\",\n",
    "    title=\"Accidentes según estado meteorológico\",\n",
    "    labels={\n",
    "        \"estado_meteorológico\": \"Estado meteorológico\",\n",
    "        \"tipo_vehiculo\": \"Tipo de vehículo\",\n",
    "        \"cantidad\": \"Cantidad\"\n",
    "    },\n",
    "    category_orders={\n",
    "        \"tipo_vehiculo\": [\"Turismo\", \"Motocicleta\", \"Furgoneta\", \"Autobús\", \"Camión\", \"Bicicleta\", \"Otro vehículo\"]\n",
    "    },\n",
    "    color_discrete_map={\n",
    "        \"Despejado\": \"gold\",\n",
    "        \"Granizando\": \"maroon\",\n",
    "        \"LLuvia intensa\": \"rebeccapurple\",\n",
    "        \"Lluvia débil\": \"lightskyblue\",\n",
    "        \"Nevando\": \"snow\",\n",
    "        \"Nublado\": \"grey\",\n",
    "        \"Se desconoce\": \"sienna\"\n",
    "    }\n",
    ")\n",
    "\n",
    "fig.show()"
   ]
  },
  {
   "cell_type": "markdown",
   "metadata": {},
   "source": [
    "### 9. Agrupa el dataframe por el número de expediente, vamos a analizar si hay accidentes múltiples. De la agrupación anterior obtén todos aquellos números de expediente que tengan involucrados mayor o igual que 5 tipos distintos de vehículos.\n",
    "- ¿Cuántos números de expediente aparecen?\n",
    "- ¿Qué cantidad de implicados hay en cada expediente?\n",
    "- ¿Qué tipos de vehículos diferentes aparecen en cada número de expediente?"
   ]
  },
  {
   "cell_type": "markdown",
   "metadata": {},
   "source": [
    "Realizamos un groupby para agrupar por número de expediente, y con la función `nunique()` sacamos el número de vehículos distintos en cada uno de esos expedientes.\n",
    "\n",
    "Con un filtro, obtenemos los expedientes que tengan 5 o más vehículos distintos involucrados.\n",
    "\n",
    "Una vez hecho esto, podemos filtrar por los números de expediente que hemos obtenido en el dataframe original y así sacar los involucrados y los diferentes tipos de vehículos."
   ]
  },
  {
   "cell_type": "code",
   "execution_count": 13,
   "metadata": {},
   "outputs": [
    {
     "name": "stdout",
     "output_type": "stream",
     "text": [
      "Hay 1 expediente(s) con 5 o más tipos de vehículo distintos involucrados.\n",
      "Involucrados y vehículos diferentes por expediente:\n",
      "    - Expediente 2022S022123: 10 involucrados y 5 tipos de vehículos.\n",
      "\n"
     ]
    }
   ],
   "source": [
    "expedientes = df.groupby(\"num_expediente\")[\"tipo_vehiculo\"].nunique()\n",
    "\n",
    "expedientes_5_tipos = expedientes[expedientes >= 5]\n",
    "\n",
    "print(f\"Hay {len(expedientes_5_tipos)} expediente(s) con 5 o más tipos de vehículo distintos involucrados.\")\n",
    "\n",
    "for exp in expedientes_5_tipos.index:\n",
    "    print(f\"\"\"Involucrados y vehículos diferentes por expediente:\n",
    "    - Expediente {exp}: {len(df[df[\"num_expediente\"] == exp])} involucrados \\\n",
    "y {len(df[df[\"num_expediente\"] == exp][\"tipo_vehiculo\"].unique())} tipos de vehículos.\n",
    "\"\"\")"
   ]
  },
  {
   "cell_type": "markdown",
   "metadata": {},
   "source": [
    "### 10. Toma la columna hora y quédate solamente con la hora, es decir, de 09:10:00 solo obtener 09. Tras ello, muestra gráficamente cuáles son las horas más peligrosas para circular en Madrid.\n",
    "\n",
    "Transformamos la columna \"hora\" a datetime, para luego usar `strftime()` y quedarnos solo con la hora."
   ]
  },
  {
   "cell_type": "code",
   "execution_count": 14,
   "metadata": {},
   "outputs": [
    {
     "data": {
      "text/html": [
       "<div>\n",
       "<style scoped>\n",
       "    .dataframe tbody tr th:only-of-type {\n",
       "        vertical-align: middle;\n",
       "    }\n",
       "\n",
       "    .dataframe tbody tr th {\n",
       "        vertical-align: top;\n",
       "    }\n",
       "\n",
       "    .dataframe thead th {\n",
       "        text-align: right;\n",
       "    }\n",
       "</style>\n",
       "<table border=\"1\" class=\"dataframe\">\n",
       "  <thead>\n",
       "    <tr style=\"text-align: right;\">\n",
       "      <th></th>\n",
       "      <th>num_expediente</th>\n",
       "      <th>fecha</th>\n",
       "      <th>hora</th>\n",
       "      <th>localizacion</th>\n",
       "      <th>numero</th>\n",
       "      <th>cod_distrito</th>\n",
       "      <th>distrito</th>\n",
       "      <th>tipo_accidente</th>\n",
       "      <th>estado_meteorológico</th>\n",
       "      <th>tipo_vehiculo</th>\n",
       "      <th>tipo_persona</th>\n",
       "      <th>rango_edad</th>\n",
       "      <th>sexo</th>\n",
       "      <th>cod_lesividad</th>\n",
       "      <th>lesividad</th>\n",
       "      <th>positiva_alcohol</th>\n",
       "      <th>positiva_droga</th>\n",
       "    </tr>\n",
       "  </thead>\n",
       "  <tbody>\n",
       "    <tr>\n",
       "      <th>0</th>\n",
       "      <td>2018S017842</td>\n",
       "      <td>2019-02-04</td>\n",
       "      <td>09</td>\n",
       "      <td>CALL. ALBERTO AGUILERA, 1</td>\n",
       "      <td>1</td>\n",
       "      <td>1.0</td>\n",
       "      <td>CENTRO</td>\n",
       "      <td>Colisión lateral</td>\n",
       "      <td>Despejado</td>\n",
       "      <td>Motocicleta</td>\n",
       "      <td>Conductor</td>\n",
       "      <td>De 45 a 49 años</td>\n",
       "      <td>Hombre</td>\n",
       "      <td>7.0</td>\n",
       "      <td>Asistencia sanitaria sólo en el lugar del acci...</td>\n",
       "      <td>False</td>\n",
       "      <td>False</td>\n",
       "    </tr>\n",
       "    <tr>\n",
       "      <th>1</th>\n",
       "      <td>2018S017842</td>\n",
       "      <td>2019-02-04</td>\n",
       "      <td>09</td>\n",
       "      <td>CALL. ALBERTO AGUILERA, 1</td>\n",
       "      <td>1</td>\n",
       "      <td>1.0</td>\n",
       "      <td>CENTRO</td>\n",
       "      <td>Colisión lateral</td>\n",
       "      <td>Despejado</td>\n",
       "      <td>Turismo</td>\n",
       "      <td>Conductor</td>\n",
       "      <td>De 30 a 34 años</td>\n",
       "      <td>Mujer</td>\n",
       "      <td>7.0</td>\n",
       "      <td>Asistencia sanitaria sólo en el lugar del acci...</td>\n",
       "      <td>False</td>\n",
       "      <td>False</td>\n",
       "    </tr>\n",
       "    <tr>\n",
       "      <th>2</th>\n",
       "      <td>2019S000001</td>\n",
       "      <td>2019-01-01</td>\n",
       "      <td>03</td>\n",
       "      <td>PASEO. SANTA MARIA DE LA CABEZA / PLAZA. ELIPTICA</td>\n",
       "      <td>168</td>\n",
       "      <td>11.0</td>\n",
       "      <td>CARABANCHEL</td>\n",
       "      <td>Alcance</td>\n",
       "      <td>Se desconoce</td>\n",
       "      <td>Furgoneta</td>\n",
       "      <td>Conductor</td>\n",
       "      <td>De 40 a 44 años</td>\n",
       "      <td>Hombre</td>\n",
       "      <td>0.0</td>\n",
       "      <td>Sin atención sanitaria</td>\n",
       "      <td>True</td>\n",
       "      <td>False</td>\n",
       "    </tr>\n",
       "    <tr>\n",
       "      <th>3</th>\n",
       "      <td>2019S000001</td>\n",
       "      <td>2019-01-01</td>\n",
       "      <td>03</td>\n",
       "      <td>PASEO. SANTA MARIA DE LA CABEZA / PLAZA. ELIPTICA</td>\n",
       "      <td>168</td>\n",
       "      <td>11.0</td>\n",
       "      <td>CARABANCHEL</td>\n",
       "      <td>Alcance</td>\n",
       "      <td>Se desconoce</td>\n",
       "      <td>Turismo</td>\n",
       "      <td>Conductor</td>\n",
       "      <td>De 40 a 44 años</td>\n",
       "      <td>Mujer</td>\n",
       "      <td>0.0</td>\n",
       "      <td>Sin atención sanitaria</td>\n",
       "      <td>False</td>\n",
       "      <td>False</td>\n",
       "    </tr>\n",
       "    <tr>\n",
       "      <th>4</th>\n",
       "      <td>2019S000001</td>\n",
       "      <td>2019-01-01</td>\n",
       "      <td>03</td>\n",
       "      <td>PASEO. SANTA MARIA DE LA CABEZA / PLAZA. ELIPTICA</td>\n",
       "      <td>168</td>\n",
       "      <td>11.0</td>\n",
       "      <td>CARABANCHEL</td>\n",
       "      <td>Alcance</td>\n",
       "      <td>Se desconoce</td>\n",
       "      <td>Turismo</td>\n",
       "      <td>Conductor</td>\n",
       "      <td>De 45 a 49 años</td>\n",
       "      <td>Mujer</td>\n",
       "      <td>0.0</td>\n",
       "      <td>Sin atención sanitaria</td>\n",
       "      <td>False</td>\n",
       "      <td>False</td>\n",
       "    </tr>\n",
       "  </tbody>\n",
       "</table>\n",
       "</div>"
      ],
      "text/plain": [
       "  num_expediente      fecha hora  \\\n",
       "0    2018S017842 2019-02-04   09   \n",
       "1    2018S017842 2019-02-04   09   \n",
       "2    2019S000001 2019-01-01   03   \n",
       "3    2019S000001 2019-01-01   03   \n",
       "4    2019S000001 2019-01-01   03   \n",
       "\n",
       "                                        localizacion numero  cod_distrito  \\\n",
       "0                          CALL. ALBERTO AGUILERA, 1      1           1.0   \n",
       "1                          CALL. ALBERTO AGUILERA, 1      1           1.0   \n",
       "2  PASEO. SANTA MARIA DE LA CABEZA / PLAZA. ELIPTICA    168          11.0   \n",
       "3  PASEO. SANTA MARIA DE LA CABEZA / PLAZA. ELIPTICA    168          11.0   \n",
       "4  PASEO. SANTA MARIA DE LA CABEZA / PLAZA. ELIPTICA    168          11.0   \n",
       "\n",
       "      distrito    tipo_accidente estado_meteorológico tipo_vehiculo  \\\n",
       "0       CENTRO  Colisión lateral            Despejado   Motocicleta   \n",
       "1       CENTRO  Colisión lateral            Despejado       Turismo   \n",
       "2  CARABANCHEL           Alcance         Se desconoce     Furgoneta   \n",
       "3  CARABANCHEL           Alcance         Se desconoce       Turismo   \n",
       "4  CARABANCHEL           Alcance         Se desconoce       Turismo   \n",
       "\n",
       "  tipo_persona       rango_edad    sexo  cod_lesividad  \\\n",
       "0    Conductor  De 45 a 49 años  Hombre            7.0   \n",
       "1    Conductor  De 30 a 34 años   Mujer            7.0   \n",
       "2    Conductor  De 40 a 44 años  Hombre            0.0   \n",
       "3    Conductor  De 40 a 44 años   Mujer            0.0   \n",
       "4    Conductor  De 45 a 49 años   Mujer            0.0   \n",
       "\n",
       "                                           lesividad  positiva_alcohol  \\\n",
       "0  Asistencia sanitaria sólo en el lugar del acci...             False   \n",
       "1  Asistencia sanitaria sólo en el lugar del acci...             False   \n",
       "2                             Sin atención sanitaria              True   \n",
       "3                             Sin atención sanitaria             False   \n",
       "4                             Sin atención sanitaria             False   \n",
       "\n",
       "   positiva_droga  \n",
       "0           False  \n",
       "1           False  \n",
       "2           False  \n",
       "3           False  \n",
       "4           False  "
      ]
     },
     "execution_count": 14,
     "metadata": {},
     "output_type": "execute_result"
    }
   ],
   "source": [
    "# Para la hora, primero pasamos a datetime para poder luego usar el método .dt.strftime().\n",
    "df[\"hora\"] = pd.to_datetime(df[\"hora\"], format=r\"%H:%M:%S\").dt.strftime(date_format=r\"%H\")\n",
    "\n",
    "df.head()"
   ]
  },
  {
   "cell_type": "markdown",
   "metadata": {},
   "source": [
    "Para representar las horas más peligrosas, optamos por algo semejante a un heat map, pero en una barra. De esta forma, se puede ver muy claramente en un gradiente de color las horas más peligrosas y las menos peligrosas.\n",
    "\n",
    "Para ello, utilizamos plotly express. Creamos la gráfica indicando los valores y ajustamos otras configuraciones."
   ]
  },
  {
   "cell_type": "code",
   "execution_count": 15,
   "metadata": {},
   "outputs": [
    {
     "data": {
      "application/vnd.plotly.v1+json": {
       "config": {
        "plotlyServerURL": "https://plot.ly"
       },
       "data": [
        {
         "coloraxis": "coloraxis",
         "hovertemplate": "x: %{x}<br>y: %{y}<br>Accidentes: %{z}<extra></extra>",
         "name": "0",
         "type": "heatmap",
         "x": [
          "00",
          "01",
          "02",
          "03",
          "04",
          "05",
          "06",
          "07",
          "08",
          "09",
          "10",
          "11",
          "12",
          "13",
          "14",
          "15",
          "16",
          "17",
          "18",
          "19",
          "20",
          "21",
          "22",
          "23"
         ],
         "xaxis": "x",
         "yaxis": "y",
         "z": [
          [
           6447,
           4888,
           3744,
           2950,
           2446,
           2932,
           4398,
           6918,
           11124,
           12824,
           10700,
           11265,
           13304,
           14735,
           17862,
           16537,
           15411,
           16847,
           18317,
           18402,
           17006,
           14198,
           10256,
           8546
          ]
         ]
        }
       ],
       "layout": {
        "coloraxis": {
         "colorbar": {
          "title": {
           "text": "Accidentes"
          }
         },
         "colorscale": [
          [
           0,
           "rgb(255,245,240)"
          ],
          [
           0.125,
           "rgb(254,224,210)"
          ],
          [
           0.25,
           "rgb(252,187,161)"
          ],
          [
           0.375,
           "rgb(252,146,114)"
          ],
          [
           0.5,
           "rgb(251,106,74)"
          ],
          [
           0.625,
           "rgb(239,59,44)"
          ],
          [
           0.75,
           "rgb(203,24,29)"
          ],
          [
           0.875,
           "rgb(165,15,21)"
          ],
          [
           1,
           "rgb(103,0,13)"
          ]
         ],
         "showscale": true
        },
        "height": 350,
        "margin": {
         "t": 60
        },
        "template": {
         "data": {
          "bar": [
           {
            "error_x": {
             "color": "#2a3f5f"
            },
            "error_y": {
             "color": "#2a3f5f"
            },
            "marker": {
             "line": {
              "color": "#E5ECF6",
              "width": 0.5
             },
             "pattern": {
              "fillmode": "overlay",
              "size": 10,
              "solidity": 0.2
             }
            },
            "type": "bar"
           }
          ],
          "barpolar": [
           {
            "marker": {
             "line": {
              "color": "#E5ECF6",
              "width": 0.5
             },
             "pattern": {
              "fillmode": "overlay",
              "size": 10,
              "solidity": 0.2
             }
            },
            "type": "barpolar"
           }
          ],
          "carpet": [
           {
            "aaxis": {
             "endlinecolor": "#2a3f5f",
             "gridcolor": "white",
             "linecolor": "white",
             "minorgridcolor": "white",
             "startlinecolor": "#2a3f5f"
            },
            "baxis": {
             "endlinecolor": "#2a3f5f",
             "gridcolor": "white",
             "linecolor": "white",
             "minorgridcolor": "white",
             "startlinecolor": "#2a3f5f"
            },
            "type": "carpet"
           }
          ],
          "choropleth": [
           {
            "colorbar": {
             "outlinewidth": 0,
             "ticks": ""
            },
            "type": "choropleth"
           }
          ],
          "contour": [
           {
            "colorbar": {
             "outlinewidth": 0,
             "ticks": ""
            },
            "colorscale": [
             [
              0,
              "#0d0887"
             ],
             [
              0.1111111111111111,
              "#46039f"
             ],
             [
              0.2222222222222222,
              "#7201a8"
             ],
             [
              0.3333333333333333,
              "#9c179e"
             ],
             [
              0.4444444444444444,
              "#bd3786"
             ],
             [
              0.5555555555555556,
              "#d8576b"
             ],
             [
              0.6666666666666666,
              "#ed7953"
             ],
             [
              0.7777777777777778,
              "#fb9f3a"
             ],
             [
              0.8888888888888888,
              "#fdca26"
             ],
             [
              1,
              "#f0f921"
             ]
            ],
            "type": "contour"
           }
          ],
          "contourcarpet": [
           {
            "colorbar": {
             "outlinewidth": 0,
             "ticks": ""
            },
            "type": "contourcarpet"
           }
          ],
          "heatmap": [
           {
            "colorbar": {
             "outlinewidth": 0,
             "ticks": ""
            },
            "colorscale": [
             [
              0,
              "#0d0887"
             ],
             [
              0.1111111111111111,
              "#46039f"
             ],
             [
              0.2222222222222222,
              "#7201a8"
             ],
             [
              0.3333333333333333,
              "#9c179e"
             ],
             [
              0.4444444444444444,
              "#bd3786"
             ],
             [
              0.5555555555555556,
              "#d8576b"
             ],
             [
              0.6666666666666666,
              "#ed7953"
             ],
             [
              0.7777777777777778,
              "#fb9f3a"
             ],
             [
              0.8888888888888888,
              "#fdca26"
             ],
             [
              1,
              "#f0f921"
             ]
            ],
            "type": "heatmap"
           }
          ],
          "heatmapgl": [
           {
            "colorbar": {
             "outlinewidth": 0,
             "ticks": ""
            },
            "colorscale": [
             [
              0,
              "#0d0887"
             ],
             [
              0.1111111111111111,
              "#46039f"
             ],
             [
              0.2222222222222222,
              "#7201a8"
             ],
             [
              0.3333333333333333,
              "#9c179e"
             ],
             [
              0.4444444444444444,
              "#bd3786"
             ],
             [
              0.5555555555555556,
              "#d8576b"
             ],
             [
              0.6666666666666666,
              "#ed7953"
             ],
             [
              0.7777777777777778,
              "#fb9f3a"
             ],
             [
              0.8888888888888888,
              "#fdca26"
             ],
             [
              1,
              "#f0f921"
             ]
            ],
            "type": "heatmapgl"
           }
          ],
          "histogram": [
           {
            "marker": {
             "pattern": {
              "fillmode": "overlay",
              "size": 10,
              "solidity": 0.2
             }
            },
            "type": "histogram"
           }
          ],
          "histogram2d": [
           {
            "colorbar": {
             "outlinewidth": 0,
             "ticks": ""
            },
            "colorscale": [
             [
              0,
              "#0d0887"
             ],
             [
              0.1111111111111111,
              "#46039f"
             ],
             [
              0.2222222222222222,
              "#7201a8"
             ],
             [
              0.3333333333333333,
              "#9c179e"
             ],
             [
              0.4444444444444444,
              "#bd3786"
             ],
             [
              0.5555555555555556,
              "#d8576b"
             ],
             [
              0.6666666666666666,
              "#ed7953"
             ],
             [
              0.7777777777777778,
              "#fb9f3a"
             ],
             [
              0.8888888888888888,
              "#fdca26"
             ],
             [
              1,
              "#f0f921"
             ]
            ],
            "type": "histogram2d"
           }
          ],
          "histogram2dcontour": [
           {
            "colorbar": {
             "outlinewidth": 0,
             "ticks": ""
            },
            "colorscale": [
             [
              0,
              "#0d0887"
             ],
             [
              0.1111111111111111,
              "#46039f"
             ],
             [
              0.2222222222222222,
              "#7201a8"
             ],
             [
              0.3333333333333333,
              "#9c179e"
             ],
             [
              0.4444444444444444,
              "#bd3786"
             ],
             [
              0.5555555555555556,
              "#d8576b"
             ],
             [
              0.6666666666666666,
              "#ed7953"
             ],
             [
              0.7777777777777778,
              "#fb9f3a"
             ],
             [
              0.8888888888888888,
              "#fdca26"
             ],
             [
              1,
              "#f0f921"
             ]
            ],
            "type": "histogram2dcontour"
           }
          ],
          "mesh3d": [
           {
            "colorbar": {
             "outlinewidth": 0,
             "ticks": ""
            },
            "type": "mesh3d"
           }
          ],
          "parcoords": [
           {
            "line": {
             "colorbar": {
              "outlinewidth": 0,
              "ticks": ""
             }
            },
            "type": "parcoords"
           }
          ],
          "pie": [
           {
            "automargin": true,
            "type": "pie"
           }
          ],
          "scatter": [
           {
            "fillpattern": {
             "fillmode": "overlay",
             "size": 10,
             "solidity": 0.2
            },
            "type": "scatter"
           }
          ],
          "scatter3d": [
           {
            "line": {
             "colorbar": {
              "outlinewidth": 0,
              "ticks": ""
             }
            },
            "marker": {
             "colorbar": {
              "outlinewidth": 0,
              "ticks": ""
             }
            },
            "type": "scatter3d"
           }
          ],
          "scattercarpet": [
           {
            "marker": {
             "colorbar": {
              "outlinewidth": 0,
              "ticks": ""
             }
            },
            "type": "scattercarpet"
           }
          ],
          "scattergeo": [
           {
            "marker": {
             "colorbar": {
              "outlinewidth": 0,
              "ticks": ""
             }
            },
            "type": "scattergeo"
           }
          ],
          "scattergl": [
           {
            "marker": {
             "colorbar": {
              "outlinewidth": 0,
              "ticks": ""
             }
            },
            "type": "scattergl"
           }
          ],
          "scattermapbox": [
           {
            "marker": {
             "colorbar": {
              "outlinewidth": 0,
              "ticks": ""
             }
            },
            "type": "scattermapbox"
           }
          ],
          "scatterpolar": [
           {
            "marker": {
             "colorbar": {
              "outlinewidth": 0,
              "ticks": ""
             }
            },
            "type": "scatterpolar"
           }
          ],
          "scatterpolargl": [
           {
            "marker": {
             "colorbar": {
              "outlinewidth": 0,
              "ticks": ""
             }
            },
            "type": "scatterpolargl"
           }
          ],
          "scatterternary": [
           {
            "marker": {
             "colorbar": {
              "outlinewidth": 0,
              "ticks": ""
             }
            },
            "type": "scatterternary"
           }
          ],
          "surface": [
           {
            "colorbar": {
             "outlinewidth": 0,
             "ticks": ""
            },
            "colorscale": [
             [
              0,
              "#0d0887"
             ],
             [
              0.1111111111111111,
              "#46039f"
             ],
             [
              0.2222222222222222,
              "#7201a8"
             ],
             [
              0.3333333333333333,
              "#9c179e"
             ],
             [
              0.4444444444444444,
              "#bd3786"
             ],
             [
              0.5555555555555556,
              "#d8576b"
             ],
             [
              0.6666666666666666,
              "#ed7953"
             ],
             [
              0.7777777777777778,
              "#fb9f3a"
             ],
             [
              0.8888888888888888,
              "#fdca26"
             ],
             [
              1,
              "#f0f921"
             ]
            ],
            "type": "surface"
           }
          ],
          "table": [
           {
            "cells": {
             "fill": {
              "color": "#EBF0F8"
             },
             "line": {
              "color": "white"
             }
            },
            "header": {
             "fill": {
              "color": "#C8D4E3"
             },
             "line": {
              "color": "white"
             }
            },
            "type": "table"
           }
          ]
         },
         "layout": {
          "annotationdefaults": {
           "arrowcolor": "#2a3f5f",
           "arrowhead": 0,
           "arrowwidth": 1
          },
          "autotypenumbers": "strict",
          "coloraxis": {
           "colorbar": {
            "outlinewidth": 0,
            "ticks": ""
           }
          },
          "colorscale": {
           "diverging": [
            [
             0,
             "#8e0152"
            ],
            [
             0.1,
             "#c51b7d"
            ],
            [
             0.2,
             "#de77ae"
            ],
            [
             0.3,
             "#f1b6da"
            ],
            [
             0.4,
             "#fde0ef"
            ],
            [
             0.5,
             "#f7f7f7"
            ],
            [
             0.6,
             "#e6f5d0"
            ],
            [
             0.7,
             "#b8e186"
            ],
            [
             0.8,
             "#7fbc41"
            ],
            [
             0.9,
             "#4d9221"
            ],
            [
             1,
             "#276419"
            ]
           ],
           "sequential": [
            [
             0,
             "#0d0887"
            ],
            [
             0.1111111111111111,
             "#46039f"
            ],
            [
             0.2222222222222222,
             "#7201a8"
            ],
            [
             0.3333333333333333,
             "#9c179e"
            ],
            [
             0.4444444444444444,
             "#bd3786"
            ],
            [
             0.5555555555555556,
             "#d8576b"
            ],
            [
             0.6666666666666666,
             "#ed7953"
            ],
            [
             0.7777777777777778,
             "#fb9f3a"
            ],
            [
             0.8888888888888888,
             "#fdca26"
            ],
            [
             1,
             "#f0f921"
            ]
           ],
           "sequentialminus": [
            [
             0,
             "#0d0887"
            ],
            [
             0.1111111111111111,
             "#46039f"
            ],
            [
             0.2222222222222222,
             "#7201a8"
            ],
            [
             0.3333333333333333,
             "#9c179e"
            ],
            [
             0.4444444444444444,
             "#bd3786"
            ],
            [
             0.5555555555555556,
             "#d8576b"
            ],
            [
             0.6666666666666666,
             "#ed7953"
            ],
            [
             0.7777777777777778,
             "#fb9f3a"
            ],
            [
             0.8888888888888888,
             "#fdca26"
            ],
            [
             1,
             "#f0f921"
            ]
           ]
          },
          "colorway": [
           "#636efa",
           "#EF553B",
           "#00cc96",
           "#ab63fa",
           "#FFA15A",
           "#19d3f3",
           "#FF6692",
           "#B6E880",
           "#FF97FF",
           "#FECB52"
          ],
          "font": {
           "color": "#2a3f5f"
          },
          "geo": {
           "bgcolor": "white",
           "lakecolor": "white",
           "landcolor": "#E5ECF6",
           "showlakes": true,
           "showland": true,
           "subunitcolor": "white"
          },
          "hoverlabel": {
           "align": "left"
          },
          "hovermode": "closest",
          "mapbox": {
           "style": "light"
          },
          "paper_bgcolor": "white",
          "plot_bgcolor": "#E5ECF6",
          "polar": {
           "angularaxis": {
            "gridcolor": "white",
            "linecolor": "white",
            "ticks": ""
           },
           "bgcolor": "#E5ECF6",
           "radialaxis": {
            "gridcolor": "white",
            "linecolor": "white",
            "ticks": ""
           }
          },
          "scene": {
           "xaxis": {
            "backgroundcolor": "#E5ECF6",
            "gridcolor": "white",
            "gridwidth": 2,
            "linecolor": "white",
            "showbackground": true,
            "ticks": "",
            "zerolinecolor": "white"
           },
           "yaxis": {
            "backgroundcolor": "#E5ECF6",
            "gridcolor": "white",
            "gridwidth": 2,
            "linecolor": "white",
            "showbackground": true,
            "ticks": "",
            "zerolinecolor": "white"
           },
           "zaxis": {
            "backgroundcolor": "#E5ECF6",
            "gridcolor": "white",
            "gridwidth": 2,
            "linecolor": "white",
            "showbackground": true,
            "ticks": "",
            "zerolinecolor": "white"
           }
          },
          "shapedefaults": {
           "line": {
            "color": "#2a3f5f"
           }
          },
          "ternary": {
           "aaxis": {
            "gridcolor": "white",
            "linecolor": "white",
            "ticks": ""
           },
           "baxis": {
            "gridcolor": "white",
            "linecolor": "white",
            "ticks": ""
           },
           "bgcolor": "#E5ECF6",
           "caxis": {
            "gridcolor": "white",
            "linecolor": "white",
            "ticks": ""
           }
          },
          "title": {
           "x": 0.05
          },
          "xaxis": {
           "automargin": true,
           "gridcolor": "white",
           "linecolor": "white",
           "ticks": "",
           "title": {
            "standoff": 15
           },
           "zerolinecolor": "white",
           "zerolinewidth": 2
          },
          "yaxis": {
           "automargin": true,
           "gridcolor": "white",
           "linecolor": "white",
           "ticks": "",
           "title": {
            "standoff": 15
           },
           "zerolinecolor": "white",
           "zerolinewidth": 2
          }
         }
        },
        "title": {
         "text": "Horas más peligrosas para circular por Madrid"
        },
        "xaxis": {
         "anchor": "y",
         "constrain": "domain",
         "domain": [
          0,
          1
         ],
         "scaleanchor": "y",
         "title": {
          "text": "Hora del día"
         }
        },
        "yaxis": {
         "anchor": "x",
         "autorange": "reversed",
         "constrain": "domain",
         "domain": [
          0,
          1
         ],
         "visible": false
        }
       }
      }
     },
     "metadata": {},
     "output_type": "display_data"
    }
   ],
   "source": [
    "accidentes_por_hora = df['hora'].value_counts().sort_index()\n",
    "\n",
    "fig = px.imshow(\n",
    "    [accidentes_por_hora],\n",
    "    color_continuous_scale=\"Reds\",\n",
    "    labels={\"color\": \"Accidentes\"},\n",
    "    x=accidentes_por_hora.index,\n",
    "    height=350\n",
    ")\n",
    "\n",
    "fig.update_layout(\n",
    "    title=\"Horas más peligrosas para circular por Madrid\",\n",
    "    xaxis_title=\"Hora del día\",\n",
    "    yaxis_visible=False,\n",
    "    coloraxis_showscale=True\n",
    ")\n",
    "\n",
    "fig.show()"
   ]
  }
 ],
 "metadata": {
  "kernelspec": {
   "display_name": "Python 3",
   "language": "python",
   "name": "python3"
  },
  "language_info": {
   "codemirror_mode": {
    "name": "ipython",
    "version": 3
   },
   "file_extension": ".py",
   "mimetype": "text/x-python",
   "name": "python",
   "nbconvert_exporter": "python",
   "pygments_lexer": "ipython3",
   "version": "3.12.8"
  }
 },
 "nbformat": 4,
 "nbformat_minor": 2
}
